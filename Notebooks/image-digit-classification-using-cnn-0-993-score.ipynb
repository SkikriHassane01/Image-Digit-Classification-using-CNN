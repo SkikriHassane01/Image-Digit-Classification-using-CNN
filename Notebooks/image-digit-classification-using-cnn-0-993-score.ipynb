{
 "cells": [
  {
   "cell_type": "markdown",
   "id": "cad70c94",
   "metadata": {
    "papermill": {
     "duration": 0.009552,
     "end_time": "2024-09-13T23:00:15.496406",
     "exception": false,
     "start_time": "2024-09-13T23:00:15.486854",
     "status": "completed"
    },
    "tags": []
   },
   "source": [
    "# Image Digit Classification using Convolutional Neural Networks (CNN)\n",
    "\n",
    "## DataSet:\n",
    "\n",
    "the link is [here](https://www.kaggle.com/competitions/digit-recognizer)\n",
    "\n",
    "Each image is 28 pixels in height and 28 pixels in width, for a total of 784 pixels in total. Each pixel has a single pixel-value associated with it, indicating the lightness or darkness of that pixel, with higher numbers meaning darker. This pixel-value is an integer between 0 and 255, inclusive.\n",
    "\n",
    "The training data set, (train.csv), has 785 columns. The first column, called \"label\", is the digit that was drawn by the user. The rest of the columns contain the pixel-values of the associated image.\n",
    "\n",
    "## Outline:\n",
    "\n",
    "- **Load the data set**\n",
    "- **Data Preprocessing**\n",
    "- **Split the data**\n",
    "- **What is CNN**\n",
    "- **implementation with the help of keras**\n"
   ]
  },
  {
   "cell_type": "code",
   "execution_count": 1,
   "id": "29c8230c",
   "metadata": {
    "execution": {
     "iopub.execute_input": "2024-09-13T23:00:15.515502Z",
     "iopub.status.busy": "2024-09-13T23:00:15.514753Z",
     "iopub.status.idle": "2024-09-13T23:00:29.202338Z",
     "shell.execute_reply": "2024-09-13T23:00:29.201555Z"
    },
    "papermill": {
     "duration": 13.699516,
     "end_time": "2024-09-13T23:00:29.204588",
     "exception": false,
     "start_time": "2024-09-13T23:00:15.505072",
     "status": "completed"
    },
    "tags": []
   },
   "outputs": [],
   "source": [
    "import numpy as np\n",
    "import pandas as pd \n",
    "import seaborn as sns\n",
    "import matplotlib.pyplot as plt\n",
    "import os\n",
    "import warnings\n",
    "warnings.filterwarnings('ignore')\n",
    "\n",
    "from keras.utils import to_categorical\n",
    "\n",
    "from sklearn.model_selection import train_test_split\n",
    "\n",
    "from keras.models import Sequential\n",
    "from tensorflow.keras.layers import Conv2D, MaxPool2D, Dropout, Flatten, Dense, BatchNormalization, LeakyReLU\n",
    "from keras.optimizers import RMSprop,Adam\n",
    "from tensorflow.keras.preprocessing.image import ImageDataGenerator\n",
    "from tensorflow.keras.callbacks import EarlyStopping, ReduceLROnPlateau, ModelCheckpoint\n",
    "\n",
    "# pd.options.display.max_columns = None"
   ]
  },
  {
   "cell_type": "code",
   "execution_count": 2,
   "id": "21663c63",
   "metadata": {
    "execution": {
     "iopub.execute_input": "2024-09-13T23:00:29.223615Z",
     "iopub.status.busy": "2024-09-13T23:00:29.223054Z",
     "iopub.status.idle": "2024-09-13T23:00:29.228413Z",
     "shell.execute_reply": "2024-09-13T23:00:29.227464Z"
    },
    "papermill": {
     "duration": 0.016837,
     "end_time": "2024-09-13T23:00:29.230398",
     "exception": false,
     "start_time": "2024-09-13T23:00:29.213561",
     "status": "completed"
    },
    "tags": []
   },
   "outputs": [
    {
     "name": "stdout",
     "output_type": "stream",
     "text": [
      "['digit-recognizer']\n"
     ]
    }
   ],
   "source": [
    "print(os.listdir(\"../input\"))"
   ]
  },
  {
   "cell_type": "code",
   "execution_count": 3,
   "id": "9d377a3f",
   "metadata": {
    "execution": {
     "iopub.execute_input": "2024-09-13T23:00:29.248734Z",
     "iopub.status.busy": "2024-09-13T23:00:29.248442Z",
     "iopub.status.idle": "2024-09-13T23:00:29.254554Z",
     "shell.execute_reply": "2024-09-13T23:00:29.253714Z"
    },
    "papermill": {
     "duration": 0.017254,
     "end_time": "2024-09-13T23:00:29.256403",
     "exception": false,
     "start_time": "2024-09-13T23:00:29.239149",
     "status": "completed"
    },
    "tags": []
   },
   "outputs": [
    {
     "name": "stdout",
     "output_type": "stream",
     "text": [
      "['sample_submission.csv', 'train.csv', 'test.csv']\n"
     ]
    }
   ],
   "source": [
    "print(os.listdir(\"../input/digit-recognizer\"))"
   ]
  },
  {
   "cell_type": "markdown",
   "id": "2bad2a62",
   "metadata": {
    "papermill": {
     "duration": 0.008379,
     "end_time": "2024-09-13T23:00:29.273420",
     "exception": false,
     "start_time": "2024-09-13T23:00:29.265041",
     "status": "completed"
    },
    "tags": []
   },
   "source": [
    "# 1. load the dataset"
   ]
  },
  {
   "cell_type": "code",
   "execution_count": 4,
   "id": "26b4b62c",
   "metadata": {
    "execution": {
     "iopub.execute_input": "2024-09-13T23:00:29.291789Z",
     "iopub.status.busy": "2024-09-13T23:00:29.291527Z",
     "iopub.status.idle": "2024-09-13T23:00:35.062241Z",
     "shell.execute_reply": "2024-09-13T23:00:35.061024Z"
    },
    "papermill": {
     "duration": 5.782302,
     "end_time": "2024-09-13T23:00:35.064410",
     "exception": false,
     "start_time": "2024-09-13T23:00:29.282108",
     "status": "completed"
    },
    "tags": []
   },
   "outputs": [
    {
     "name": "stdout",
     "output_type": "stream",
     "text": [
      "(42000, 785)\n",
      "(28000, 784)\n"
     ]
    }
   ],
   "source": [
    "train = pd.read_csv(\"/kaggle/input/digit-recognizer/train.csv\")\n",
    "test = pd.read_csv(\"/kaggle/input/digit-recognizer/test.csv\")\n",
    "\n",
    "print(train.shape)\n",
    "print(test.shape)"
   ]
  },
  {
   "cell_type": "code",
   "execution_count": 5,
   "id": "a7a6ca29",
   "metadata": {
    "execution": {
     "iopub.execute_input": "2024-09-13T23:00:35.083823Z",
     "iopub.status.busy": "2024-09-13T23:00:35.083495Z",
     "iopub.status.idle": "2024-09-13T23:00:35.107386Z",
     "shell.execute_reply": "2024-09-13T23:00:35.106555Z"
    },
    "papermill": {
     "duration": 0.035776,
     "end_time": "2024-09-13T23:00:35.109369",
     "exception": false,
     "start_time": "2024-09-13T23:00:35.073593",
     "status": "completed"
    },
    "tags": []
   },
   "outputs": [
    {
     "data": {
      "text/html": [
       "<div>\n",
       "<style scoped>\n",
       "    .dataframe tbody tr th:only-of-type {\n",
       "        vertical-align: middle;\n",
       "    }\n",
       "\n",
       "    .dataframe tbody tr th {\n",
       "        vertical-align: top;\n",
       "    }\n",
       "\n",
       "    .dataframe thead th {\n",
       "        text-align: right;\n",
       "    }\n",
       "</style>\n",
       "<table border=\"1\" class=\"dataframe\">\n",
       "  <thead>\n",
       "    <tr style=\"text-align: right;\">\n",
       "      <th></th>\n",
       "      <th>label</th>\n",
       "      <th>pixel0</th>\n",
       "      <th>pixel1</th>\n",
       "      <th>pixel2</th>\n",
       "      <th>pixel3</th>\n",
       "      <th>pixel4</th>\n",
       "      <th>pixel5</th>\n",
       "      <th>pixel6</th>\n",
       "      <th>pixel7</th>\n",
       "      <th>pixel8</th>\n",
       "      <th>...</th>\n",
       "      <th>pixel774</th>\n",
       "      <th>pixel775</th>\n",
       "      <th>pixel776</th>\n",
       "      <th>pixel777</th>\n",
       "      <th>pixel778</th>\n",
       "      <th>pixel779</th>\n",
       "      <th>pixel780</th>\n",
       "      <th>pixel781</th>\n",
       "      <th>pixel782</th>\n",
       "      <th>pixel783</th>\n",
       "    </tr>\n",
       "  </thead>\n",
       "  <tbody>\n",
       "    <tr>\n",
       "      <th>0</th>\n",
       "      <td>1</td>\n",
       "      <td>0</td>\n",
       "      <td>0</td>\n",
       "      <td>0</td>\n",
       "      <td>0</td>\n",
       "      <td>0</td>\n",
       "      <td>0</td>\n",
       "      <td>0</td>\n",
       "      <td>0</td>\n",
       "      <td>0</td>\n",
       "      <td>...</td>\n",
       "      <td>0</td>\n",
       "      <td>0</td>\n",
       "      <td>0</td>\n",
       "      <td>0</td>\n",
       "      <td>0</td>\n",
       "      <td>0</td>\n",
       "      <td>0</td>\n",
       "      <td>0</td>\n",
       "      <td>0</td>\n",
       "      <td>0</td>\n",
       "    </tr>\n",
       "    <tr>\n",
       "      <th>1</th>\n",
       "      <td>0</td>\n",
       "      <td>0</td>\n",
       "      <td>0</td>\n",
       "      <td>0</td>\n",
       "      <td>0</td>\n",
       "      <td>0</td>\n",
       "      <td>0</td>\n",
       "      <td>0</td>\n",
       "      <td>0</td>\n",
       "      <td>0</td>\n",
       "      <td>...</td>\n",
       "      <td>0</td>\n",
       "      <td>0</td>\n",
       "      <td>0</td>\n",
       "      <td>0</td>\n",
       "      <td>0</td>\n",
       "      <td>0</td>\n",
       "      <td>0</td>\n",
       "      <td>0</td>\n",
       "      <td>0</td>\n",
       "      <td>0</td>\n",
       "    </tr>\n",
       "  </tbody>\n",
       "</table>\n",
       "<p>2 rows × 785 columns</p>\n",
       "</div>"
      ],
      "text/plain": [
       "   label  pixel0  pixel1  pixel2  pixel3  pixel4  pixel5  pixel6  pixel7  \\\n",
       "0      1       0       0       0       0       0       0       0       0   \n",
       "1      0       0       0       0       0       0       0       0       0   \n",
       "\n",
       "   pixel8  ...  pixel774  pixel775  pixel776  pixel777  pixel778  pixel779  \\\n",
       "0       0  ...         0         0         0         0         0         0   \n",
       "1       0  ...         0         0         0         0         0         0   \n",
       "\n",
       "   pixel780  pixel781  pixel782  pixel783  \n",
       "0         0         0         0         0  \n",
       "1         0         0         0         0  \n",
       "\n",
       "[2 rows x 785 columns]"
      ]
     },
     "execution_count": 5,
     "metadata": {},
     "output_type": "execute_result"
    }
   ],
   "source": [
    "train.head(2)"
   ]
  },
  {
   "cell_type": "code",
   "execution_count": 6,
   "id": "a7dcaf72",
   "metadata": {
    "execution": {
     "iopub.execute_input": "2024-09-13T23:00:35.128749Z",
     "iopub.status.busy": "2024-09-13T23:00:35.128450Z",
     "iopub.status.idle": "2024-09-13T23:00:35.550256Z",
     "shell.execute_reply": "2024-09-13T23:00:35.549385Z"
    },
    "papermill": {
     "duration": 0.433983,
     "end_time": "2024-09-13T23:00:35.552480",
     "exception": false,
     "start_time": "2024-09-13T23:00:35.118497",
     "status": "completed"
    },
    "tags": []
   },
   "outputs": [
    {
     "data": {
      "image/png": "[encoded data removed]",
      "text/plain": [
       "<Figure size 900x600 with 1 Axes>"
      ]
     },
     "metadata": {},
     "output_type": "display_data"
    }
   ],
   "source": [
    "# we will plot the number of digits in each class \n",
    "\n",
    "X_train = train.drop(columns=['label'])\n",
    "y_train = train['label']\n",
    "\n",
    "plt.figure(figsize=(9,6))\n",
    "ax = sns.countplot(x=y_train, palette='Set2')\n",
    "ax.bar_label(ax.containers[0])\n",
    "plt.title('Number of digit for each classe')\n",
    "\n",
    "plt.show()"
   ]
  },
  {
   "cell_type": "code",
   "execution_count": 7,
   "id": "55bdf494",
   "metadata": {
    "execution": {
     "iopub.execute_input": "2024-09-13T23:00:35.573160Z",
     "iopub.status.busy": "2024-09-13T23:00:35.572842Z",
     "iopub.status.idle": "2024-09-13T23:00:36.361671Z",
     "shell.execute_reply": "2024-09-13T23:00:36.360669Z"
    },
    "papermill": {
     "duration": 0.801651,
     "end_time": "2024-09-13T23:00:36.363853",
     "exception": false,
     "start_time": "2024-09-13T23:00:35.562202",
     "status": "completed"
    },
    "tags": []
   },
   "outputs": [
    {
     "data": {
      "image/png": "[encoded data removed]",
      "text/plain": [
       "<Figure size 1000x800 with 9 Axes>"
      ]
     },
     "metadata": {},
     "output_type": "display_data"
    }
   ],
   "source": [
    "# plot some images \n",
    "num_images = 9\n",
    "plt.figure(figsize=(10,8))\n",
    "for i, idx in enumerate(np.random.randint(0,len(train), num_images)):\n",
    "    plt.subplot(3,3,i+1)\n",
    "    plt.suptitle('Random images from the train dataset',fontsize=18)\n",
    "    img = X_train.iloc[idx].values\n",
    "    img = img.reshape((28,28))\n",
    "    plt.imshow(img, cmap='gray')\n",
    "    plt.title(f\"Label: {y_train[idx]}\") \n",
    "    plt.axis('off')\n",
    "    \n",
    "plt.tight_layout()\n",
    "plt.show()"
   ]
  },
  {
   "cell_type": "markdown",
   "id": "6c1d0a82",
   "metadata": {
    "papermill": {
     "duration": 0.009641,
     "end_time": "2024-09-13T23:00:36.383698",
     "exception": false,
     "start_time": "2024-09-13T23:00:36.374057",
     "status": "completed"
    },
    "tags": []
   },
   "source": [
    "## Data Preprocessing"
   ]
  },
  {
   "cell_type": "markdown",
   "id": "2747ccca",
   "metadata": {
    "papermill": {
     "duration": 0.009756,
     "end_time": "2024-09-13T23:00:36.403350",
     "exception": false,
     "start_time": "2024-09-13T23:00:36.393594",
     "status": "completed"
    },
    "tags": []
   },
   "source": [
    "**Step1: Normalization**\n",
    "\n",
    "- we perform a grayscale normalization to reduce the effect of illumination's diffrences\n",
    "- this make our model works faster \n",
    "\n",
    "**Step2: Reshape**\n",
    "\n",
    "- train and test images with (28 x 28) shape\n",
    "- we will reshape all the data to 3D matrices (28 x 28 x 1)\n",
    "- this is because keras needs an extra dimension in hte end which correspond to channels. our images are gray scaled so it use only one channel. \n",
    "\n",
    "**Step3: Label Encoding**\n",
    "\n",
    "- encode labels to one hot vectors \n",
    "for example the number:\n",
    "- 1 => ***[0 1 0 0 0 0 0 0 0 0]***\n",
    "- 4 => ***[0 0 0 0 1 0 0 0 0 0]***"
   ]
  },
  {
   "cell_type": "code",
   "execution_count": 8,
   "id": "b91bd826",
   "metadata": {
    "execution": {
     "iopub.execute_input": "2024-09-13T23:00:36.425028Z",
     "iopub.status.busy": "2024-09-13T23:00:36.424701Z",
     "iopub.status.idle": "2024-09-13T23:00:36.815852Z",
     "shell.execute_reply": "2024-09-13T23:00:36.814769Z"
    },
    "papermill": {
     "duration": 0.405085,
     "end_time": "2024-09-13T23:00:36.818208",
     "exception": false,
     "start_time": "2024-09-13T23:00:36.413123",
     "status": "completed"
    },
    "tags": []
   },
   "outputs": [
    {
     "name": "stdout",
     "output_type": "stream",
     "text": [
      "Before Normalization:\n",
      "Train Min: 0 Train Max: 255  \n",
      "Test Min: 0 Test Max: 255  \n",
      "After Normalization:\n",
      "Train Min: 0.0 Train Max: 1.0  \n",
      "Test Min: 0.0 Test Max: 1.0  \n"
     ]
    }
   ],
   "source": [
    "# Noralization\n",
    "print(\"Before Normalization:\")\n",
    "print(f\"Train Min: {X_train.min().min()} Train Max: {X_train.max().max()}  \")\n",
    "print(f\"Test Min: {test.min().min()} Test Max: {test.max().max()}  \")\n",
    "\n",
    "X_train = X_train / 255.0\n",
    "test = test / 255.0\n",
    "print(\"After Normalization:\")\n",
    "print(f\"Train Min: {X_train.min().min()} Train Max: {X_train.max().max()}  \")\n",
    "print(f\"Test Min: {test.min().min()} Test Max: {test.max().max()}  \")"
   ]
  },
  {
   "cell_type": "code",
   "execution_count": 9,
   "id": "b6b9d5b9",
   "metadata": {
    "execution": {
     "iopub.execute_input": "2024-09-13T23:00:36.841454Z",
     "iopub.status.busy": "2024-09-13T23:00:36.840664Z",
     "iopub.status.idle": "2024-09-13T23:00:36.846299Z",
     "shell.execute_reply": "2024-09-13T23:00:36.845448Z"
    },
    "papermill": {
     "duration": 0.019249,
     "end_time": "2024-09-13T23:00:36.848506",
     "exception": false,
     "start_time": "2024-09-13T23:00:36.829257",
     "status": "completed"
    },
    "tags": []
   },
   "outputs": [
    {
     "name": "stdout",
     "output_type": "stream",
     "text": [
      "x_train shape:  (42000, 28, 28, 1)\n",
      "test shape:  (28000, 28, 28, 1)\n"
     ]
    }
   ],
   "source": [
    "# Reshaping\n",
    "\n",
    "X_train = X_train.values.reshape(-1,28,28,1)\n",
    "test = test.values.reshape(-1,28,28,1)\n",
    "\n",
    "print(\"x_train shape: \",X_train.shape)\n",
    "print(\"test shape: \",test.shape)"
   ]
  },
  {
   "cell_type": "code",
   "execution_count": 10,
   "id": "5de9f594",
   "metadata": {
    "execution": {
     "iopub.execute_input": "2024-09-13T23:00:36.872266Z",
     "iopub.status.busy": "2024-09-13T23:00:36.871647Z",
     "iopub.status.idle": "2024-09-13T23:00:36.878971Z",
     "shell.execute_reply": "2024-09-13T23:00:36.877876Z"
    },
    "papermill": {
     "duration": 0.022118,
     "end_time": "2024-09-13T23:00:36.881171",
     "exception": false,
     "start_time": "2024-09-13T23:00:36.859053",
     "status": "completed"
    },
    "tags": []
   },
   "outputs": [
    {
     "name": "stdout",
     "output_type": "stream",
     "text": [
      "before the label encoding \n",
      " 1 \n",
      " 0\n",
      "after the label encoding \n",
      " [0. 1. 0. 0. 0. 0. 0. 0. 0. 0.] \n",
      " [1. 0. 0. 0. 0. 0. 0. 0. 0. 0.]\n"
     ]
    }
   ],
   "source": [
    "# label encoding\n",
    "print(f\"before the label encoding \\n {y_train[0]} \\n {y_train[1]}\")\n",
    "y_train = to_categorical(y_train, num_classes= 10)\n",
    "print(f\"after the label encoding \\n {y_train[0]} \\n {y_train[1]}\")\n"
   ]
  },
  {
   "cell_type": "markdown",
   "id": "871bb973",
   "metadata": {
    "papermill": {
     "duration": 0.010157,
     "end_time": "2024-09-13T23:00:36.902011",
     "exception": false,
     "start_time": "2024-09-13T23:00:36.891854",
     "status": "completed"
    },
    "tags": []
   },
   "source": [
    "## Split the data"
   ]
  },
  {
   "cell_type": "code",
   "execution_count": 11,
   "id": "e84a07d6",
   "metadata": {
    "execution": {
     "iopub.execute_input": "2024-09-13T23:00:36.924024Z",
     "iopub.status.busy": "2024-09-13T23:00:36.923727Z",
     "iopub.status.idle": "2024-09-13T23:00:37.308940Z",
     "shell.execute_reply": "2024-09-13T23:00:37.307856Z"
    },
    "papermill": {
     "duration": 0.398914,
     "end_time": "2024-09-13T23:00:37.311160",
     "exception": false,
     "start_time": "2024-09-13T23:00:36.912246",
     "status": "completed"
    },
    "tags": []
   },
   "outputs": [
    {
     "name": "stdout",
     "output_type": "stream",
     "text": [
      "x_train shape (37800, 28, 28, 1)\n",
      "x_test shape (4200, 28, 28, 1)\n",
      "y_train shape (37800, 10)\n",
      "y_test shape (4200, 10)\n"
     ]
    }
   ],
   "source": [
    "X_train, X_val, y_train, y_val = train_test_split(X_train, y_train, test_size = 0.1, random_state = 42)\n",
    "\n",
    "\n",
    "print(\"x_train shape\",X_train.shape)\n",
    "print(\"x_test shape\",X_val.shape)\n",
    "print(\"y_train shape\",y_train.shape)\n",
    "print(\"y_test shape\",y_val.shape)\n"
   ]
  },
  {
   "cell_type": "markdown",
   "id": "5ed92bbe",
   "metadata": {
    "papermill": {
     "duration": 0.010098,
     "end_time": "2024-09-13T23:00:37.332032",
     "exception": false,
     "start_time": "2024-09-13T23:00:37.321934",
     "status": "completed"
    },
    "tags": []
   },
   "source": [
    "## Convolutional Neural Network"
   ]
  },
  {
   "cell_type": "markdown",
   "id": "eafd4aba",
   "metadata": {
    "papermill": {
     "duration": 0.010042,
     "end_time": "2024-09-13T23:00:37.352973",
     "exception": false,
     "start_time": "2024-09-13T23:00:37.342931",
     "status": "completed"
    },
    "tags": []
   },
   "source": [
    "CNN is used for image classification, object detection \n",
    "\n",
    "<a href=\"https://ibb.co/kV1j9p\"><img src=\"https://preview.ibb.co/nRkBpp/gec2.jpg\" alt=\"gec2\" border=\"0\"></a>\n",
    "\n",
    "### What is Convolution Operation?\n",
    "\n",
    "the convolution operation is like using a magnifying glass (the feature detector) to look closely at an image, focusing on specific features (like edges or shapes) while simultaneously reducing the overall size of the image for faster processing.\n",
    "\n",
    "1. Input Image and Feature Detectors:\n",
    "\n",
    "    - Imagine you have a picture (the input image) and you want to find certain features within that picture, like edges or shapes.\n",
    "    - A feature detector (also called a kernel or filter) is a small matrix (like 3x3, 5x5, or 7x7) that helps to identify these features.\n",
    "  \n",
    "2. How It Works:\n",
    "\n",
    "    - The feature detector slides over the image (this sliding movement is called the stride). At each position, it performs an element-wise multiplication between the values of the image and the values of the filter.\n",
    "    - After the multiplication, the results are summed up to produce a single output value. This output value represents the strength of the detected feature at that position in the image.\n",
    "  \n",
    "3. Feature Maps:\n",
    "\n",
    "    - The result of applying the feature detector across the entire image creates a feature map. This feature map highlights the areas where the specific feature (detected by the filter) is present.\n",
    "    - If you use multiple feature detectors, you will end up with multiple feature maps, each highlighting different features of the image.\n",
    "    \n",
    "4. Size Reduction:\n",
    "\n",
    "- The process of convolution reduces the size of the image. While this is useful for speeding up processing time, it also means that some information is lost. This trade-off is important in building efficient models.\n",
    "    \n",
    "<a href=\"https://imgbb.com/\"><img src=\"https://image.ibb.co/m4FQC9/gec.jpg\" alt=\"gec\" border=\"0\"></a>\n",
    "\n",
    "* After having convolution layer we use ReLU to break up linearity. Increase nonlinearity. Because images are non linear.\n",
    "\n",
    "<a href=\"https://ibb.co/mVZih9\"><img src=\"https://preview.ibb.co/gbcQvU/RELU.jpg\" alt=\"RELU\" border=\"0\"></a>\n",
    "\n",
    "### Same Padding\n",
    "* As we keep applying conv layers, the size of the volume will decrease faster than we would like. In the early layers of our network, we want to preserve as much information about the original input volume so that we can extract those low level features.\n",
    "* input size and output size are same.\n",
    "\n",
    "<a href=\"https://ibb.co/jUPkUp\"><img src=\"https://preview.ibb.co/noH5Up/padding.jpg\" alt=\"padding\" border=\"0\"></a>\n",
    "\n",
    "### Max Pooling\n",
    "* It makes down-sampling or sub-sampling (Reduces the number of parameters)\n",
    "* It makes the detection of features invariant to scale or orientation changes.\n",
    "* It reduce the amount of parameters and computation in the network, and hence to also control overfitting. \n",
    "\n",
    "<a href=\"https://ibb.co/ckTjN9\"><img src=\"https://preview.ibb.co/gsNYFU/maxpool.jpg\" alt=\"maxpool\" border=\"0\"></a>\n",
    "\n",
    "### Flattening\n",
    "\n",
    "<a href=\"https://imgbb.com/\"><img src=\"https://image.ibb.co/c7eVvU/flattenigng.jpg\" alt=\"flattenigng\" border=\"0\"></a>\n",
    "\n",
    "### Full Connection\n",
    "* Neurons in a fully connected layer have connections to all activations in the previous layer\n",
    "* Artificial Neural Network\n",
    "\n",
    "<a href=\"https://ibb.co/hsS14p\"><img src=\"https://preview.ibb.co/evzsAU/fullyc.jpg\" alt=\"fullyc\" border=\"0\"></a>"
   ]
  },
  {
   "cell_type": "markdown",
   "id": "f90d16e6",
   "metadata": {
    "papermill": {
     "duration": 0.010129,
     "end_time": "2024-09-13T23:00:37.373277",
     "exception": false,
     "start_time": "2024-09-13T23:00:37.363148",
     "status": "completed"
    },
    "tags": []
   },
   "source": [
    "## Implementing with The help of Keras"
   ]
  },
  {
   "cell_type": "code",
   "execution_count": 12,
   "id": "77060568",
   "metadata": {
    "execution": {
     "iopub.execute_input": "2024-09-13T23:00:37.395065Z",
     "iopub.status.busy": "2024-09-13T23:00:37.394741Z",
     "iopub.status.idle": "2024-09-13T23:00:38.174466Z",
     "shell.execute_reply": "2024-09-13T23:00:38.173523Z"
    },
    "papermill": {
     "duration": 0.793151,
     "end_time": "2024-09-13T23:00:38.176680",
     "exception": false,
     "start_time": "2024-09-13T23:00:37.383529",
     "status": "completed"
    },
    "tags": []
   },
   "outputs": [
    {
     "data": {
      "text/html": [
       "<pre style=\"white-space:pre;overflow-x:auto;line-height:normal;font-family:Menlo,'DejaVu Sans Mono',consolas,'Courier New',monospace\"><span style=\"font-weight: bold\">Model: \"sequential\"</span>\n",
       "</pre>\n"
      ],
      "text/plain": [
       "\u001b[1mModel: \"sequential\"\u001b[0m\n"
      ]
     },
     "metadata": {},
     "output_type": "display_data"
    },
    {
     "data": {
      "text/html": [
       "<pre style=\"white-space:pre;overflow-x:auto;line-height:normal;font-family:Menlo,'DejaVu Sans Mono',consolas,'Courier New',monospace\">┏━━━━━━━━━━━━━━━━━━━━━━━━━━━━━━━━━┳━━━━━━━━━━━━━━━━━━━━━━━━┳━━━━━━━━━━━━━━━┓\n",
       "┃<span style=\"font-weight: bold\"> Layer (type)                    </span>┃<span style=\"font-weight: bold\"> Output Shape           </span>┃<span style=\"font-weight: bold\">       Param # </span>┃\n",
       "┡━━━━━━━━━━━━━━━━━━━━━━━━━━━━━━━━━╇━━━━━━━━━━━━━━━━━━━━━━━━╇━━━━━━━━━━━━━━━┩\n",
       "│ conv2d (<span style=\"color: #0087ff; text-decoration-color: #0087ff\">Conv2D</span>)                 │ (<span style=\"color: #00d7ff; text-decoration-color: #00d7ff\">None</span>, <span style=\"color: #00af00; text-decoration-color: #00af00\">28</span>, <span style=\"color: #00af00; text-decoration-color: #00af00\">28</span>, <span style=\"color: #00af00; text-decoration-color: #00af00\">32</span>)     │           <span style=\"color: #00af00; text-decoration-color: #00af00\">320</span> │\n",
       "├─────────────────────────────────┼────────────────────────┼───────────────┤\n",
       "│ batch_normalization             │ (<span style=\"color: #00d7ff; text-decoration-color: #00d7ff\">None</span>, <span style=\"color: #00af00; text-decoration-color: #00af00\">28</span>, <span style=\"color: #00af00; text-decoration-color: #00af00\">28</span>, <span style=\"color: #00af00; text-decoration-color: #00af00\">32</span>)     │           <span style=\"color: #00af00; text-decoration-color: #00af00\">128</span> │\n",
       "│ (<span style=\"color: #0087ff; text-decoration-color: #0087ff\">BatchNormalization</span>)            │                        │               │\n",
       "├─────────────────────────────────┼────────────────────────┼───────────────┤\n",
       "│ leaky_re_lu (<span style=\"color: #0087ff; text-decoration-color: #0087ff\">LeakyReLU</span>)         │ (<span style=\"color: #00d7ff; text-decoration-color: #00d7ff\">None</span>, <span style=\"color: #00af00; text-decoration-color: #00af00\">28</span>, <span style=\"color: #00af00; text-decoration-color: #00af00\">28</span>, <span style=\"color: #00af00; text-decoration-color: #00af00\">32</span>)     │             <span style=\"color: #00af00; text-decoration-color: #00af00\">0</span> │\n",
       "├─────────────────────────────────┼────────────────────────┼───────────────┤\n",
       "│ max_pooling2d (<span style=\"color: #0087ff; text-decoration-color: #0087ff\">MaxPooling2D</span>)    │ (<span style=\"color: #00d7ff; text-decoration-color: #00d7ff\">None</span>, <span style=\"color: #00af00; text-decoration-color: #00af00\">14</span>, <span style=\"color: #00af00; text-decoration-color: #00af00\">14</span>, <span style=\"color: #00af00; text-decoration-color: #00af00\">32</span>)     │             <span style=\"color: #00af00; text-decoration-color: #00af00\">0</span> │\n",
       "├─────────────────────────────────┼────────────────────────┼───────────────┤\n",
       "│ dropout (<span style=\"color: #0087ff; text-decoration-color: #0087ff\">Dropout</span>)               │ (<span style=\"color: #00d7ff; text-decoration-color: #00d7ff\">None</span>, <span style=\"color: #00af00; text-decoration-color: #00af00\">14</span>, <span style=\"color: #00af00; text-decoration-color: #00af00\">14</span>, <span style=\"color: #00af00; text-decoration-color: #00af00\">32</span>)     │             <span style=\"color: #00af00; text-decoration-color: #00af00\">0</span> │\n",
       "├─────────────────────────────────┼────────────────────────┼───────────────┤\n",
       "│ conv2d_1 (<span style=\"color: #0087ff; text-decoration-color: #0087ff\">Conv2D</span>)               │ (<span style=\"color: #00d7ff; text-decoration-color: #00d7ff\">None</span>, <span style=\"color: #00af00; text-decoration-color: #00af00\">14</span>, <span style=\"color: #00af00; text-decoration-color: #00af00\">14</span>, <span style=\"color: #00af00; text-decoration-color: #00af00\">64</span>)     │        <span style=\"color: #00af00; text-decoration-color: #00af00\">18,496</span> │\n",
       "├─────────────────────────────────┼────────────────────────┼───────────────┤\n",
       "│ batch_normalization_1           │ (<span style=\"color: #00d7ff; text-decoration-color: #00d7ff\">None</span>, <span style=\"color: #00af00; text-decoration-color: #00af00\">14</span>, <span style=\"color: #00af00; text-decoration-color: #00af00\">14</span>, <span style=\"color: #00af00; text-decoration-color: #00af00\">64</span>)     │           <span style=\"color: #00af00; text-decoration-color: #00af00\">256</span> │\n",
       "│ (<span style=\"color: #0087ff; text-decoration-color: #0087ff\">BatchNormalization</span>)            │                        │               │\n",
       "├─────────────────────────────────┼────────────────────────┼───────────────┤\n",
       "│ leaky_re_lu_1 (<span style=\"color: #0087ff; text-decoration-color: #0087ff\">LeakyReLU</span>)       │ (<span style=\"color: #00d7ff; text-decoration-color: #00d7ff\">None</span>, <span style=\"color: #00af00; text-decoration-color: #00af00\">14</span>, <span style=\"color: #00af00; text-decoration-color: #00af00\">14</span>, <span style=\"color: #00af00; text-decoration-color: #00af00\">64</span>)     │             <span style=\"color: #00af00; text-decoration-color: #00af00\">0</span> │\n",
       "├─────────────────────────────────┼────────────────────────┼───────────────┤\n",
       "│ max_pooling2d_1 (<span style=\"color: #0087ff; text-decoration-color: #0087ff\">MaxPooling2D</span>)  │ (<span style=\"color: #00d7ff; text-decoration-color: #00d7ff\">None</span>, <span style=\"color: #00af00; text-decoration-color: #00af00\">7</span>, <span style=\"color: #00af00; text-decoration-color: #00af00\">7</span>, <span style=\"color: #00af00; text-decoration-color: #00af00\">64</span>)       │             <span style=\"color: #00af00; text-decoration-color: #00af00\">0</span> │\n",
       "├─────────────────────────────────┼────────────────────────┼───────────────┤\n",
       "│ dropout_1 (<span style=\"color: #0087ff; text-decoration-color: #0087ff\">Dropout</span>)             │ (<span style=\"color: #00d7ff; text-decoration-color: #00d7ff\">None</span>, <span style=\"color: #00af00; text-decoration-color: #00af00\">7</span>, <span style=\"color: #00af00; text-decoration-color: #00af00\">7</span>, <span style=\"color: #00af00; text-decoration-color: #00af00\">64</span>)       │             <span style=\"color: #00af00; text-decoration-color: #00af00\">0</span> │\n",
       "├─────────────────────────────────┼────────────────────────┼───────────────┤\n",
       "│ conv2d_2 (<span style=\"color: #0087ff; text-decoration-color: #0087ff\">Conv2D</span>)               │ (<span style=\"color: #00d7ff; text-decoration-color: #00d7ff\">None</span>, <span style=\"color: #00af00; text-decoration-color: #00af00\">7</span>, <span style=\"color: #00af00; text-decoration-color: #00af00\">7</span>, <span style=\"color: #00af00; text-decoration-color: #00af00\">128</span>)      │        <span style=\"color: #00af00; text-decoration-color: #00af00\">73,856</span> │\n",
       "├─────────────────────────────────┼────────────────────────┼───────────────┤\n",
       "│ batch_normalization_2           │ (<span style=\"color: #00d7ff; text-decoration-color: #00d7ff\">None</span>, <span style=\"color: #00af00; text-decoration-color: #00af00\">7</span>, <span style=\"color: #00af00; text-decoration-color: #00af00\">7</span>, <span style=\"color: #00af00; text-decoration-color: #00af00\">128</span>)      │           <span style=\"color: #00af00; text-decoration-color: #00af00\">512</span> │\n",
       "│ (<span style=\"color: #0087ff; text-decoration-color: #0087ff\">BatchNormalization</span>)            │                        │               │\n",
       "├─────────────────────────────────┼────────────────────────┼───────────────┤\n",
       "│ leaky_re_lu_2 (<span style=\"color: #0087ff; text-decoration-color: #0087ff\">LeakyReLU</span>)       │ (<span style=\"color: #00d7ff; text-decoration-color: #00d7ff\">None</span>, <span style=\"color: #00af00; text-decoration-color: #00af00\">7</span>, <span style=\"color: #00af00; text-decoration-color: #00af00\">7</span>, <span style=\"color: #00af00; text-decoration-color: #00af00\">128</span>)      │             <span style=\"color: #00af00; text-decoration-color: #00af00\">0</span> │\n",
       "├─────────────────────────────────┼────────────────────────┼───────────────┤\n",
       "│ max_pooling2d_2 (<span style=\"color: #0087ff; text-decoration-color: #0087ff\">MaxPooling2D</span>)  │ (<span style=\"color: #00d7ff; text-decoration-color: #00d7ff\">None</span>, <span style=\"color: #00af00; text-decoration-color: #00af00\">3</span>, <span style=\"color: #00af00; text-decoration-color: #00af00\">3</span>, <span style=\"color: #00af00; text-decoration-color: #00af00\">128</span>)      │             <span style=\"color: #00af00; text-decoration-color: #00af00\">0</span> │\n",
       "├─────────────────────────────────┼────────────────────────┼───────────────┤\n",
       "│ dropout_2 (<span style=\"color: #0087ff; text-decoration-color: #0087ff\">Dropout</span>)             │ (<span style=\"color: #00d7ff; text-decoration-color: #00d7ff\">None</span>, <span style=\"color: #00af00; text-decoration-color: #00af00\">3</span>, <span style=\"color: #00af00; text-decoration-color: #00af00\">3</span>, <span style=\"color: #00af00; text-decoration-color: #00af00\">128</span>)      │             <span style=\"color: #00af00; text-decoration-color: #00af00\">0</span> │\n",
       "├─────────────────────────────────┼────────────────────────┼───────────────┤\n",
       "│ flatten (<span style=\"color: #0087ff; text-decoration-color: #0087ff\">Flatten</span>)               │ (<span style=\"color: #00d7ff; text-decoration-color: #00d7ff\">None</span>, <span style=\"color: #00af00; text-decoration-color: #00af00\">1152</span>)           │             <span style=\"color: #00af00; text-decoration-color: #00af00\">0</span> │\n",
       "├─────────────────────────────────┼────────────────────────┼───────────────┤\n",
       "│ dense (<span style=\"color: #0087ff; text-decoration-color: #0087ff\">Dense</span>)                   │ (<span style=\"color: #00d7ff; text-decoration-color: #00d7ff\">None</span>, <span style=\"color: #00af00; text-decoration-color: #00af00\">256</span>)            │       <span style=\"color: #00af00; text-decoration-color: #00af00\">295,168</span> │\n",
       "├─────────────────────────────────┼────────────────────────┼───────────────┤\n",
       "│ dropout_3 (<span style=\"color: #0087ff; text-decoration-color: #0087ff\">Dropout</span>)             │ (<span style=\"color: #00d7ff; text-decoration-color: #00d7ff\">None</span>, <span style=\"color: #00af00; text-decoration-color: #00af00\">256</span>)            │             <span style=\"color: #00af00; text-decoration-color: #00af00\">0</span> │\n",
       "├─────────────────────────────────┼────────────────────────┼───────────────┤\n",
       "│ dense_1 (<span style=\"color: #0087ff; text-decoration-color: #0087ff\">Dense</span>)                 │ (<span style=\"color: #00d7ff; text-decoration-color: #00d7ff\">None</span>, <span style=\"color: #00af00; text-decoration-color: #00af00\">10</span>)             │         <span style=\"color: #00af00; text-decoration-color: #00af00\">2,570</span> │\n",
       "└─────────────────────────────────┴────────────────────────┴───────────────┘\n",
       "</pre>\n"
      ],
      "text/plain": [
       "┏━━━━━━━━━━━━━━━━━━━━━━━━━━━━━━━━━┳━━━━━━━━━━━━━━━━━━━━━━━━┳━━━━━━━━━━━━━━━┓\n",
       "┃\u001b[1m \u001b[0m\u001b[1mLayer (type)                   \u001b[0m\u001b[1m \u001b[0m┃\u001b[1m \u001b[0m\u001b[1mOutput Shape          \u001b[0m\u001b[1m \u001b[0m┃\u001b[1m \u001b[0m\u001b[1m      Param #\u001b[0m\u001b[1m \u001b[0m┃\n",
       "┡━━━━━━━━━━━━━━━━━━━━━━━━━━━━━━━━━╇━━━━━━━━━━━━━━━━━━━━━━━━╇━━━━━━━━━━━━━━━┩\n",
       "│ conv2d (\u001b[38;5;33mConv2D\u001b[0m)                 │ (\u001b[38;5;45mNone\u001b[0m, \u001b[38;5;34m28\u001b[0m, \u001b[38;5;34m28\u001b[0m, \u001b[38;5;34m32\u001b[0m)     │           \u001b[38;5;34m320\u001b[0m │\n",
       "├─────────────────────────────────┼────────────────────────┼───────────────┤\n",
       "│ batch_normalization             │ (\u001b[38;5;45mNone\u001b[0m, \u001b[38;5;34m28\u001b[0m, \u001b[38;5;34m28\u001b[0m, \u001b[38;5;34m32\u001b[0m)     │           \u001b[38;5;34m128\u001b[0m │\n",
       "│ (\u001b[38;5;33mBatchNormalization\u001b[0m)            │                        │               │\n",
       "├─────────────────────────────────┼────────────────────────┼───────────────┤\n",
       "│ leaky_re_lu (\u001b[38;5;33mLeakyReLU\u001b[0m)         │ (\u001b[38;5;45mNone\u001b[0m, \u001b[38;5;34m28\u001b[0m, \u001b[38;5;34m28\u001b[0m, \u001b[38;5;34m32\u001b[0m)     │             \u001b[38;5;34m0\u001b[0m │\n",
       "├─────────────────────────────────┼────────────────────────┼───────────────┤\n",
       "│ max_pooling2d (\u001b[38;5;33mMaxPooling2D\u001b[0m)    │ (\u001b[38;5;45mNone\u001b[0m, \u001b[38;5;34m14\u001b[0m, \u001b[38;5;34m14\u001b[0m, \u001b[38;5;34m32\u001b[0m)     │             \u001b[38;5;34m0\u001b[0m │\n",
       "├─────────────────────────────────┼────────────────────────┼───────────────┤\n",
       "│ dropout (\u001b[38;5;33mDropout\u001b[0m)               │ (\u001b[38;5;45mNone\u001b[0m, \u001b[38;5;34m14\u001b[0m, \u001b[38;5;34m14\u001b[0m, \u001b[38;5;34m32\u001b[0m)     │             \u001b[38;5;34m0\u001b[0m │\n",
       "├─────────────────────────────────┼────────────────────────┼───────────────┤\n",
       "│ conv2d_1 (\u001b[38;5;33mConv2D\u001b[0m)               │ (\u001b[38;5;45mNone\u001b[0m, \u001b[38;5;34m14\u001b[0m, \u001b[38;5;34m14\u001b[0m, \u001b[38;5;34m64\u001b[0m)     │        \u001b[38;5;34m18,496\u001b[0m │\n",
       "├─────────────────────────────────┼────────────────────────┼───────────────┤\n",
       "│ batch_normalization_1           │ (\u001b[38;5;45mNone\u001b[0m, \u001b[38;5;34m14\u001b[0m, \u001b[38;5;34m14\u001b[0m, \u001b[38;5;34m64\u001b[0m)     │           \u001b[38;5;34m256\u001b[0m │\n",
       "│ (\u001b[38;5;33mBatchNormalization\u001b[0m)            │                        │               │\n",
       "├─────────────────────────────────┼────────────────────────┼───────────────┤\n",
       "│ leaky_re_lu_1 (\u001b[38;5;33mLeakyReLU\u001b[0m)       │ (\u001b[38;5;45mNone\u001b[0m, \u001b[38;5;34m14\u001b[0m, \u001b[38;5;34m14\u001b[0m, \u001b[38;5;34m64\u001b[0m)     │             \u001b[38;5;34m0\u001b[0m │\n",
       "├─────────────────────────────────┼────────────────────────┼───────────────┤\n",
       "│ max_pooling2d_1 (\u001b[38;5;33mMaxPooling2D\u001b[0m)  │ (\u001b[38;5;45mNone\u001b[0m, \u001b[38;5;34m7\u001b[0m, \u001b[38;5;34m7\u001b[0m, \u001b[38;5;34m64\u001b[0m)       │             \u001b[38;5;34m0\u001b[0m │\n",
       "├─────────────────────────────────┼────────────────────────┼───────────────┤\n",
       "│ dropout_1 (\u001b[38;5;33mDropout\u001b[0m)             │ (\u001b[38;5;45mNone\u001b[0m, \u001b[38;5;34m7\u001b[0m, \u001b[38;5;34m7\u001b[0m, \u001b[38;5;34m64\u001b[0m)       │             \u001b[38;5;34m0\u001b[0m │\n",
       "├─────────────────────────────────┼────────────────────────┼───────────────┤\n",
       "│ conv2d_2 (\u001b[38;5;33mConv2D\u001b[0m)               │ (\u001b[38;5;45mNone\u001b[0m, \u001b[38;5;34m7\u001b[0m, \u001b[38;5;34m7\u001b[0m, \u001b[38;5;34m128\u001b[0m)      │        \u001b[38;5;34m73,856\u001b[0m │\n",
       "├─────────────────────────────────┼────────────────────────┼───────────────┤\n",
       "│ batch_normalization_2           │ (\u001b[38;5;45mNone\u001b[0m, \u001b[38;5;34m7\u001b[0m, \u001b[38;5;34m7\u001b[0m, \u001b[38;5;34m128\u001b[0m)      │           \u001b[38;5;34m512\u001b[0m │\n",
       "│ (\u001b[38;5;33mBatchNormalization\u001b[0m)            │                        │               │\n",
       "├─────────────────────────────────┼────────────────────────┼───────────────┤\n",
       "│ leaky_re_lu_2 (\u001b[38;5;33mLeakyReLU\u001b[0m)       │ (\u001b[38;5;45mNone\u001b[0m, \u001b[38;5;34m7\u001b[0m, \u001b[38;5;34m7\u001b[0m, \u001b[38;5;34m128\u001b[0m)      │             \u001b[38;5;34m0\u001b[0m │\n",
       "├─────────────────────────────────┼────────────────────────┼───────────────┤\n",
       "│ max_pooling2d_2 (\u001b[38;5;33mMaxPooling2D\u001b[0m)  │ (\u001b[38;5;45mNone\u001b[0m, \u001b[38;5;34m3\u001b[0m, \u001b[38;5;34m3\u001b[0m, \u001b[38;5;34m128\u001b[0m)      │             \u001b[38;5;34m0\u001b[0m │\n",
       "├─────────────────────────────────┼────────────────────────┼───────────────┤\n",
       "│ dropout_2 (\u001b[38;5;33mDropout\u001b[0m)             │ (\u001b[38;5;45mNone\u001b[0m, \u001b[38;5;34m3\u001b[0m, \u001b[38;5;34m3\u001b[0m, \u001b[38;5;34m128\u001b[0m)      │             \u001b[38;5;34m0\u001b[0m │\n",
       "├─────────────────────────────────┼────────────────────────┼───────────────┤\n",
       "│ flatten (\u001b[38;5;33mFlatten\u001b[0m)               │ (\u001b[38;5;45mNone\u001b[0m, \u001b[38;5;34m1152\u001b[0m)           │             \u001b[38;5;34m0\u001b[0m │\n",
       "├─────────────────────────────────┼────────────────────────┼───────────────┤\n",
       "│ dense (\u001b[38;5;33mDense\u001b[0m)                   │ (\u001b[38;5;45mNone\u001b[0m, \u001b[38;5;34m256\u001b[0m)            │       \u001b[38;5;34m295,168\u001b[0m │\n",
       "├─────────────────────────────────┼────────────────────────┼───────────────┤\n",
       "│ dropout_3 (\u001b[38;5;33mDropout\u001b[0m)             │ (\u001b[38;5;45mNone\u001b[0m, \u001b[38;5;34m256\u001b[0m)            │             \u001b[38;5;34m0\u001b[0m │\n",
       "├─────────────────────────────────┼────────────────────────┼───────────────┤\n",
       "│ dense_1 (\u001b[38;5;33mDense\u001b[0m)                 │ (\u001b[38;5;45mNone\u001b[0m, \u001b[38;5;34m10\u001b[0m)             │         \u001b[38;5;34m2,570\u001b[0m │\n",
       "└─────────────────────────────────┴────────────────────────┴───────────────┘\n"
      ]
     },
     "metadata": {},
     "output_type": "display_data"
    },
    {
     "data": {
      "text/html": [
       "<pre style=\"white-space:pre;overflow-x:auto;line-height:normal;font-family:Menlo,'DejaVu Sans Mono',consolas,'Courier New',monospace\"><span style=\"font-weight: bold\"> Total params: </span><span style=\"color: #00af00; text-decoration-color: #00af00\">391,306</span> (1.49 MB)\n",
       "</pre>\n"
      ],
      "text/plain": [
       "\u001b[1m Total params: \u001b[0m\u001b[38;5;34m391,306\u001b[0m (1.49 MB)\n"
      ]
     },
     "metadata": {},
     "output_type": "display_data"
    },
    {
     "data": {
      "text/html": [
       "<pre style=\"white-space:pre;overflow-x:auto;line-height:normal;font-family:Menlo,'DejaVu Sans Mono',consolas,'Courier New',monospace\"><span style=\"font-weight: bold\"> Trainable params: </span><span style=\"color: #00af00; text-decoration-color: #00af00\">390,858</span> (1.49 MB)\n",
       "</pre>\n"
      ],
      "text/plain": [
       "\u001b[1m Trainable params: \u001b[0m\u001b[38;5;34m390,858\u001b[0m (1.49 MB)\n"
      ]
     },
     "metadata": {},
     "output_type": "display_data"
    },
    {
     "data": {
      "text/html": [
       "<pre style=\"white-space:pre;overflow-x:auto;line-height:normal;font-family:Menlo,'DejaVu Sans Mono',consolas,'Courier New',monospace\"><span style=\"font-weight: bold\"> Non-trainable params: </span><span style=\"color: #00af00; text-decoration-color: #00af00\">448</span> (1.75 KB)\n",
       "</pre>\n"
      ],
      "text/plain": [
       "\u001b[1m Non-trainable params: \u001b[0m\u001b[38;5;34m448\u001b[0m (1.75 KB)\n"
      ]
     },
     "metadata": {},
     "output_type": "display_data"
    }
   ],
   "source": [
    "# model creation\n",
    "\n",
    "model = Sequential([\n",
    "    # First convolutional layer\n",
    "    Conv2D(filters=32,kernel_size= (3, 3), padding='Same', input_shape=(28, 28, 1)),\n",
    "    BatchNormalization(),\n",
    "    LeakyReLU(alpha=0.1),\n",
    "    MaxPool2D(pool_size=(2, 2)),\n",
    "    Dropout(0.3),\n",
    "    \n",
    "    # Second convolutional layer\n",
    "    Conv2D(64, (3, 3), padding='Same'),\n",
    "    BatchNormalization(),\n",
    "    LeakyReLU(alpha=0.1),\n",
    "    MaxPool2D(pool_size=(2, 2)),\n",
    "    Dropout(0.4),\n",
    "    \n",
    "    # Third convolutional layer\n",
    "    Conv2D(128, (3, 3), padding='Same'),\n",
    "    BatchNormalization(),\n",
    "    LeakyReLU(alpha=0.1),\n",
    "    MaxPool2D(pool_size=(2, 2)),\n",
    "    Dropout(0.5),\n",
    "    \n",
    "    # Flatten and fully connected layers\n",
    "    Flatten(),\n",
    "    Dense(256, activation='relu'),\n",
    "    Dropout(0.5),\n",
    "    \n",
    "    # Output layer\n",
    "    Dense(10, activation='softmax')\n",
    "])\n",
    "\n",
    "# Model summary\n",
    "model.summary()"
   ]
  },
  {
   "cell_type": "code",
   "execution_count": 13,
   "id": "d3ad7526",
   "metadata": {
    "execution": {
     "iopub.execute_input": "2024-09-13T23:00:38.201766Z",
     "iopub.status.busy": "2024-09-13T23:00:38.201203Z",
     "iopub.status.idle": "2024-09-13T23:00:38.210750Z",
     "shell.execute_reply": "2024-09-13T23:00:38.209838Z"
    },
    "papermill": {
     "duration": 0.023929,
     "end_time": "2024-09-13T23:00:38.212691",
     "exception": false,
     "start_time": "2024-09-13T23:00:38.188762",
     "status": "completed"
    },
    "tags": []
   },
   "outputs": [],
   "source": [
    "# Define the optimizer\n",
    "\n",
    "optimizer = Adam(learning_rate=0.001, beta_1=0.9, beta_2=0.999)"
   ]
  },
  {
   "attachments": {
    "3f85cad9-ffe1-4919-a4cb-fd88ce7f07f9.jpg": {
     "image/jpeg": "[encoded data removed]"
    }
   },
   "cell_type": "markdown",
   "id": "b1a684d1",
   "metadata": {
    "papermill": {
     "duration": 0.011296,
     "end_time": "2024-09-13T23:00:38.235544",
     "exception": false,
     "start_time": "2024-09-13T23:00:38.224248",
     "status": "completed"
    },
    "tags": []
   },
   "source": [
    "### Compile the model\n",
    "\n",
    "- we will use **categorical crossentropy** That means that we have multi class.\n",
    "\n",
    "![cce.jpg](attachment:3f85cad9-ffe1-4919-a4cb-fd88ce7f07f9.jpg)"
   ]
  },
  {
   "cell_type": "code",
   "execution_count": 14,
   "id": "fa32df99",
   "metadata": {
    "execution": {
     "iopub.execute_input": "2024-09-13T23:00:38.259690Z",
     "iopub.status.busy": "2024-09-13T23:00:38.259385Z",
     "iopub.status.idle": "2024-09-13T23:00:38.266932Z",
     "shell.execute_reply": "2024-09-13T23:00:38.266204Z"
    },
    "papermill": {
     "duration": 0.021683,
     "end_time": "2024-09-13T23:00:38.268760",
     "exception": false,
     "start_time": "2024-09-13T23:00:38.247077",
     "status": "completed"
    },
    "tags": []
   },
   "outputs": [],
   "source": [
    "# Compile the model\n",
    "model.compile(optimizer = optimizer , loss = \"categorical_crossentropy\", metrics=[\"accuracy\"])"
   ]
  },
  {
   "cell_type": "markdown",
   "id": "ac8b6f62",
   "metadata": {
    "papermill": {
     "duration": 0.011588,
     "end_time": "2024-09-13T23:00:38.291684",
     "exception": false,
     "start_time": "2024-09-13T23:00:38.280096",
     "status": "completed"
    },
    "tags": []
   },
   "source": [
    "### Epochs and Batch Size¶\n",
    "\n",
    "Say you have a dataset of 10 examples (or samples). You have a batch size of 2, and you've specified you want the algorithm to run for 3 epochs. Therefore, in each epoch, you have 5 batches (10/2 = 5). Each batch gets passed through the algorithm, therefore you have 5 iterations per epoch."
   ]
  },
  {
   "cell_type": "code",
   "execution_count": 15,
   "id": "4dd983eb",
   "metadata": {
    "execution": {
     "iopub.execute_input": "2024-09-13T23:00:38.315386Z",
     "iopub.status.busy": "2024-09-13T23:00:38.315046Z",
     "iopub.status.idle": "2024-09-13T23:00:38.318853Z",
     "shell.execute_reply": "2024-09-13T23:00:38.318048Z"
    },
    "papermill": {
     "duration": 0.017801,
     "end_time": "2024-09-13T23:00:38.320743",
     "exception": false,
     "start_time": "2024-09-13T23:00:38.302942",
     "status": "completed"
    },
    "tags": []
   },
   "outputs": [],
   "source": [
    "epochs = 100\n",
    "batch_size = 250"
   ]
  },
  {
   "attachments": {
    "03ae0097-45bd-4b62-a569-67bccfc62263.jpg": {
     "image/jpeg": "[encoded data removed]"
    }
   },
   "cell_type": "markdown",
   "id": "255c902f",
   "metadata": {
    "papermill": {
     "duration": 0.011113,
     "end_time": "2024-09-13T23:00:38.343068",
     "exception": false,
     "start_time": "2024-09-13T23:00:38.331955",
     "status": "completed"
    },
    "tags": []
   },
   "source": [
    "### Data Augmentation\n",
    "\n",
    "- To avoid overfitting problem, we need to expand artificially our handwritten digit dataset\n",
    "- Alter the training data with small transformations to reproduce the variations of digit.\n",
    "- For example, the number is not centered The scale is not the same (some who write with big/small numbers) The image is rotated.\n",
    "\n",
    "![augment.jpg](attachment:03ae0097-45bd-4b62-a569-67bccfc62263.jpg)"
   ]
  },
  {
   "cell_type": "code",
   "execution_count": 16,
   "id": "64a3062e",
   "metadata": {
    "execution": {
     "iopub.execute_input": "2024-09-13T23:00:38.367206Z",
     "iopub.status.busy": "2024-09-13T23:00:38.366912Z",
     "iopub.status.idle": "2024-09-13T23:00:38.458430Z",
     "shell.execute_reply": "2024-09-13T23:00:38.457593Z"
    },
    "papermill": {
     "duration": 0.105997,
     "end_time": "2024-09-13T23:00:38.460634",
     "exception": false,
     "start_time": "2024-09-13T23:00:38.354637",
     "status": "completed"
    },
    "tags": []
   },
   "outputs": [],
   "source": [
    "# data augmentation\n",
    "datagen = ImageDataGenerator(\n",
    "        featurewise_center=False,  # set input mean to 0 over the dataset\n",
    "        samplewise_center=False,  # set each sample mean to 0\n",
    "        featurewise_std_normalization=False,  # divide inputs by std of the dataset\n",
    "        samplewise_std_normalization=False,  # divide each input by its std\n",
    "        zca_whitening=False,  # dimesion reduction\n",
    "        rotation_range=5,  # randomly rotate images in the range 5 degrees\n",
    "        zoom_range = 0.1, # Randomly zoom image 10%\n",
    "        width_shift_range=0.1,  # randomly shift images horizontally 10%\n",
    "        height_shift_range=0.1,  # randomly shift images vertically 10%\n",
    "        horizontal_flip=False,  # randomly flip images\n",
    "        vertical_flip=False)  # randomly flip images\n",
    "\n",
    "datagen.fit(X_train)"
   ]
  },
  {
   "cell_type": "code",
   "execution_count": 17,
   "id": "3e469a1b",
   "metadata": {
    "_kg_hide-output": true,
    "execution": {
     "iopub.execute_input": "2024-09-13T23:00:38.485139Z",
     "iopub.status.busy": "2024-09-13T23:00:38.484848Z",
     "iopub.status.idle": "2024-09-13T23:08:15.049912Z",
     "shell.execute_reply": "2024-09-13T23:08:15.048900Z"
    },
    "papermill": {
     "duration": 456.579604,
     "end_time": "2024-09-13T23:08:15.051980",
     "exception": false,
     "start_time": "2024-09-13T23:00:38.472376",
     "status": "completed"
    },
    "tags": []
   },
   "outputs": [
    {
     "name": "stdout",
     "output_type": "stream",
     "text": [
      "Epoch 1/100\n"
     ]
    },
    {
     "name": "stderr",
     "output_type": "stream",
     "text": [
      "WARNING: All log messages before absl::InitializeLog() is called are written to STDERR\n",
      "I0000 00:00:1726268442.057467      67 service.cc:145] XLA service 0x78929c0020b0 initialized for platform CUDA (this does not guarantee that XLA will be used). Devices:\n",
      "I0000 00:00:1726268442.057542      67 service.cc:153]   StreamExecutor device (0): Tesla P100-PCIE-16GB, Compute Capability 6.0\n"
     ]
    },
    {
     "name": "stdout",
     "output_type": "stream",
     "text": [
      "\u001b[1m  4/151\u001b[0m \u001b[37m━━━━━━━━━━━━━━━━━━━━\u001b[0m \u001b[1m8s\u001b[0m 58ms/step - accuracy: 0.0939 - loss: 4.8877"
     ]
    },
    {
     "name": "stderr",
     "output_type": "stream",
     "text": [
      "I0000 00:00:1726268449.561533      67 device_compiler.h:188] Compiled cluster using XLA!  This line is logged at most once for the lifetime of the process.\n"
     ]
    },
    {
     "name": "stdout",
     "output_type": "stream",
     "text": [
      "\u001b[1m145/151\u001b[0m \u001b[32m━━━━━━━━━━━━━━━━━━━\u001b[0m\u001b[37m━\u001b[0m \u001b[1m0s\u001b[0m 122ms/step - accuracy: 0.2742 - loss: 2.2993\n",
      "Epoch 1: val_loss improved from inf to 6.62293, saving model to best_model.keras\n",
      "\u001b[1m151/151\u001b[0m \u001b[32m━━━━━━━━━━━━━━━━━━━━\u001b[0m\u001b[37m\u001b[0m \u001b[1m30s\u001b[0m 126ms/step - accuracy: 0.2822 - loss: 2.2676 - val_accuracy: 0.1121 - val_loss: 6.6229 - learning_rate: 0.0010\n",
      "Epoch 2/100\n",
      "\u001b[1m  1/151\u001b[0m \u001b[37m━━━━━━━━━━━━━━━━━━━━\u001b[0m \u001b[1m1s\u001b[0m 8ms/step - accuracy: 0.7480 - loss: 0.7709\n",
      "Epoch 2: val_loss did not improve from 6.62293\n",
      "\u001b[1m151/151\u001b[0m \u001b[32m━━━━━━━━━━━━━━━━━━━━\u001b[0m\u001b[37m\u001b[0m \u001b[1m0s\u001b[0m 1ms/step - accuracy: 0.7480 - loss: 0.7709 - val_accuracy: 0.1121 - val_loss: 6.7375 - learning_rate: 0.0010\n",
      "Epoch 3/100\n",
      "\u001b[1m145/151\u001b[0m \u001b[32m━━━━━━━━━━━━━━━━━━━\u001b[0m\u001b[37m━\u001b[0m \u001b[1m0s\u001b[0m 79ms/step - accuracy: 0.7675 - loss: 0.7059\n",
      "Epoch 3: val_loss improved from 6.62293 to 5.11389, saving model to best_model.keras\n",
      "\u001b[1m151/151\u001b[0m \u001b[32m━━━━━━━━━━━━━━━━━━━━\u001b[0m\u001b[37m\u001b[0m \u001b[1m12s\u001b[0m 78ms/step - accuracy: 0.7690 - loss: 0.7018 - val_accuracy: 0.1157 - val_loss: 5.1139 - learning_rate: 0.0010\n",
      "Epoch 4/100\n",
      "\u001b[1m  1/151\u001b[0m \u001b[37m━━━━━━━━━━━━━━━━━━━━\u001b[0m \u001b[1m1s\u001b[0m 7ms/step - accuracy: 0.8600 - loss: 0.4744\n",
      "Epoch 4: val_loss did not improve from 5.11389\n",
      "\u001b[1m151/151\u001b[0m \u001b[32m━━━━━━━━━━━━━━━━━━━━\u001b[0m\u001b[37m\u001b[0m \u001b[1m0s\u001b[0m 1ms/step - accuracy: 0.8600 - loss: 0.4744 - val_accuracy: 0.1162 - val_loss: 5.1588 - learning_rate: 0.0010\n",
      "Epoch 5/100\n",
      "\u001b[1m145/151\u001b[0m \u001b[32m━━━━━━━━━━━━━━━━━━━\u001b[0m\u001b[37m━\u001b[0m \u001b[1m0s\u001b[0m 80ms/step - accuracy: 0.8707 - loss: 0.4252\n",
      "Epoch 5: val_loss improved from 5.11389 to 0.50320, saving model to best_model.keras\n",
      "\u001b[1m151/151\u001b[0m \u001b[32m━━━━━━━━━━━━━━━━━━━━\u001b[0m\u001b[37m\u001b[0m \u001b[1m13s\u001b[0m 79ms/step - accuracy: 0.8711 - loss: 0.4236 - val_accuracy: 0.8512 - val_loss: 0.5032 - learning_rate: 0.0010\n",
      "Epoch 6/100\n",
      "\u001b[1m  1/151\u001b[0m \u001b[37m━━━━━━━━━━━━━━━━━━━━\u001b[0m \u001b[1m1s\u001b[0m 8ms/step - accuracy: 0.8760 - loss: 0.3898\n",
      "Epoch 6: val_loss improved from 0.50320 to 0.47215, saving model to best_model.keras\n",
      "\u001b[1m151/151\u001b[0m \u001b[32m━━━━━━━━━━━━━━━━━━━━\u001b[0m\u001b[37m\u001b[0m \u001b[1m0s\u001b[0m 2ms/step - accuracy: 0.8760 - loss: 0.3898 - val_accuracy: 0.8610 - val_loss: 0.4721 - learning_rate: 0.0010\n",
      "Epoch 7/100\n",
      "\u001b[1m145/151\u001b[0m \u001b[32m━━━━━━━━━━━━━━━━━━━\u001b[0m\u001b[37m━\u001b[0m \u001b[1m0s\u001b[0m 81ms/step - accuracy: 0.9002 - loss: 0.3164\n",
      "Epoch 7: val_loss improved from 0.47215 to 0.08471, saving model to best_model.keras\n",
      "\u001b[1m151/151\u001b[0m \u001b[32m━━━━━━━━━━━━━━━━━━━━\u001b[0m\u001b[37m\u001b[0m \u001b[1m12s\u001b[0m 79ms/step - accuracy: 0.9005 - loss: 0.3158 - val_accuracy: 0.9750 - val_loss: 0.0847 - learning_rate: 0.0010\n",
      "Epoch 8/100\n",
      "\u001b[1m  1/151\u001b[0m \u001b[37m━━━━━━━━━━━━━━━━━━━━\u001b[0m \u001b[1m1s\u001b[0m 8ms/step - accuracy: 0.9040 - loss: 0.3271\n",
      "Epoch 8: val_loss improved from 0.08471 to 0.08314, saving model to best_model.keras\n",
      "\u001b[1m151/151\u001b[0m \u001b[32m━━━━━━━━━━━━━━━━━━━━\u001b[0m\u001b[37m\u001b[0m \u001b[1m0s\u001b[0m 2ms/step - accuracy: 0.9040 - loss: 0.3271 - val_accuracy: 0.9757 - val_loss: 0.0831 - learning_rate: 0.0010\n",
      "Epoch 9/100\n",
      "\u001b[1m145/151\u001b[0m \u001b[32m━━━━━━━━━━━━━━━━━━━\u001b[0m\u001b[37m━\u001b[0m \u001b[1m0s\u001b[0m 80ms/step - accuracy: 0.9199 - loss: 0.2555\n",
      "Epoch 9: val_loss improved from 0.08314 to 0.05727, saving model to best_model.keras\n",
      "\u001b[1m151/151\u001b[0m \u001b[32m━━━━━━━━━━━━━━━━━━━━\u001b[0m\u001b[37m\u001b[0m \u001b[1m12s\u001b[0m 79ms/step - accuracy: 0.9201 - loss: 0.2551 - val_accuracy: 0.9826 - val_loss: 0.0573 - learning_rate: 0.0010\n",
      "Epoch 10/100\n",
      "\u001b[1m  1/151\u001b[0m \u001b[37m━━━━━━━━━━━━━━━━━━━━\u001b[0m \u001b[1m1s\u001b[0m 7ms/step - accuracy: 0.9200 - loss: 0.2282\n",
      "Epoch 10: val_loss improved from 0.05727 to 0.05488, saving model to best_model.keras\n",
      "\u001b[1m151/151\u001b[0m \u001b[32m━━━━━━━━━━━━━━━━━━━━\u001b[0m\u001b[37m\u001b[0m \u001b[1m0s\u001b[0m 2ms/step - accuracy: 0.9200 - loss: 0.2282 - val_accuracy: 0.9831 - val_loss: 0.0549 - learning_rate: 0.0010\n",
      "Epoch 11/100\n",
      "\u001b[1m145/151\u001b[0m \u001b[32m━━━━━━━━━━━━━━━━━━━\u001b[0m\u001b[37m━\u001b[0m \u001b[1m0s\u001b[0m 81ms/step - accuracy: 0.9345 - loss: 0.2136\n",
      "Epoch 11: val_loss improved from 0.05488 to 0.04421, saving model to best_model.keras\n",
      "\u001b[1m151/151\u001b[0m \u001b[32m━━━━━━━━━━━━━━━━━━━━\u001b[0m\u001b[37m\u001b[0m \u001b[1m13s\u001b[0m 80ms/step - accuracy: 0.9345 - loss: 0.2136 - val_accuracy: 0.9879 - val_loss: 0.0442 - learning_rate: 0.0010\n",
      "Epoch 12/100\n",
      "\u001b[1m  1/151\u001b[0m \u001b[37m━━━━━━━━━━━━━━━━━━━━\u001b[0m \u001b[1m1s\u001b[0m 8ms/step - accuracy: 0.9480 - loss: 0.1460\n",
      "Epoch 12: val_loss improved from 0.04421 to 0.04414, saving model to best_model.keras\n",
      "\u001b[1m151/151\u001b[0m \u001b[32m━━━━━━━━━━━━━━━━━━━━\u001b[0m\u001b[37m\u001b[0m \u001b[1m0s\u001b[0m 2ms/step - accuracy: 0.9480 - loss: 0.1460 - val_accuracy: 0.9871 - val_loss: 0.0441 - learning_rate: 0.0010\n",
      "Epoch 13/100\n",
      "\u001b[1m145/151\u001b[0m \u001b[32m━━━━━━━━━━━━━━━━━━━\u001b[0m\u001b[37m━\u001b[0m \u001b[1m0s\u001b[0m 79ms/step - accuracy: 0.9403 - loss: 0.1990\n",
      "Epoch 13: val_loss did not improve from 0.04414\n",
      "\u001b[1m151/151\u001b[0m \u001b[32m━━━━━━━━━━━━━━━━━━━━\u001b[0m\u001b[37m\u001b[0m \u001b[1m12s\u001b[0m 77ms/step - accuracy: 0.9404 - loss: 0.1985 - val_accuracy: 0.9848 - val_loss: 0.0475 - learning_rate: 0.0010\n",
      "Epoch 14/100\n",
      "\u001b[1m  1/151\u001b[0m \u001b[37m━━━━━━━━━━━━━━━━━━━━\u001b[0m \u001b[1m1s\u001b[0m 7ms/step - accuracy: 0.9320 - loss: 0.1597\n",
      "Epoch 14: val_loss did not improve from 0.04414\n",
      "\u001b[1m151/151\u001b[0m \u001b[32m━━━━━━━━━━━━━━━━━━━━\u001b[0m\u001b[37m\u001b[0m \u001b[1m0s\u001b[0m 1ms/step - accuracy: 0.9320 - loss: 0.1597 - val_accuracy: 0.9845 - val_loss: 0.0481 - learning_rate: 0.0010\n",
      "Epoch 15/100\n",
      "\u001b[1m145/151\u001b[0m \u001b[32m━━━━━━━━━━━━━━━━━━━\u001b[0m\u001b[37m━\u001b[0m \u001b[1m0s\u001b[0m 80ms/step - accuracy: 0.9477 - loss: 0.1652\n",
      "Epoch 15: val_loss did not improve from 0.04414\n",
      "\u001b[1m151/151\u001b[0m \u001b[32m━━━━━━━━━━━━━━━━━━━━\u001b[0m\u001b[37m\u001b[0m \u001b[1m12s\u001b[0m 78ms/step - accuracy: 0.9477 - loss: 0.1652 - val_accuracy: 0.9857 - val_loss: 0.0441 - learning_rate: 0.0010\n",
      "Epoch 16/100\n",
      "\u001b[1m  1/151\u001b[0m \u001b[37m━━━━━━━━━━━━━━━━━━━━\u001b[0m \u001b[1m1s\u001b[0m 8ms/step - accuracy: 0.9440 - loss: 0.1616\n",
      "Epoch 16: val_loss did not improve from 0.04414\n",
      "\u001b[1m151/151\u001b[0m \u001b[32m━━━━━━━━━━━━━━━━━━━━\u001b[0m\u001b[37m\u001b[0m \u001b[1m0s\u001b[0m 2ms/step - accuracy: 0.9440 - loss: 0.1616 - val_accuracy: 0.9852 - val_loss: 0.0480 - learning_rate: 0.0010\n",
      "Epoch 17/100\n",
      "\u001b[1m145/151\u001b[0m \u001b[32m━━━━━━━━━━━━━━━━━━━\u001b[0m\u001b[37m━\u001b[0m \u001b[1m0s\u001b[0m 78ms/step - accuracy: 0.9520 - loss: 0.1578\n",
      "Epoch 17: val_loss improved from 0.04414 to 0.03805, saving model to best_model.keras\n",
      "\u001b[1m151/151\u001b[0m \u001b[32m━━━━━━━━━━━━━━━━━━━━\u001b[0m\u001b[37m\u001b[0m \u001b[1m12s\u001b[0m 77ms/step - accuracy: 0.9520 - loss: 0.1577 - val_accuracy: 0.9871 - val_loss: 0.0380 - learning_rate: 5.0000e-04\n",
      "Epoch 18/100\n",
      "\u001b[1m  1/151\u001b[0m \u001b[37m━━━━━━━━━━━━━━━━━━━━\u001b[0m \u001b[1m1s\u001b[0m 7ms/step - accuracy: 0.9440 - loss: 0.1873\n",
      "Epoch 18: val_loss did not improve from 0.03805\n",
      "\u001b[1m151/151\u001b[0m \u001b[32m━━━━━━━━━━━━━━━━━━━━\u001b[0m\u001b[37m\u001b[0m \u001b[1m0s\u001b[0m 1ms/step - accuracy: 0.9440 - loss: 0.1873 - val_accuracy: 0.9874 - val_loss: 0.0381 - learning_rate: 5.0000e-04\n",
      "Epoch 19/100\n",
      "\u001b[1m145/151\u001b[0m \u001b[32m━━━━━━━━━━━━━━━━━━━\u001b[0m\u001b[37m━\u001b[0m \u001b[1m0s\u001b[0m 78ms/step - accuracy: 0.9560 - loss: 0.1453\n",
      "Epoch 19: val_loss improved from 0.03805 to 0.03650, saving model to best_model.keras\n",
      "\u001b[1m151/151\u001b[0m \u001b[32m━━━━━━━━━━━━━━━━━━━━\u001b[0m\u001b[37m\u001b[0m \u001b[1m12s\u001b[0m 77ms/step - accuracy: 0.9561 - loss: 0.1452 - val_accuracy: 0.9886 - val_loss: 0.0365 - learning_rate: 5.0000e-04\n",
      "Epoch 20/100\n",
      "\u001b[1m  1/151\u001b[0m \u001b[37m━━━━━━━━━━━━━━━━━━━━\u001b[0m \u001b[1m1s\u001b[0m 9ms/step - accuracy: 0.9520 - loss: 0.1056\n",
      "Epoch 20: val_loss improved from 0.03650 to 0.03597, saving model to best_model.keras\n",
      "\u001b[1m151/151\u001b[0m \u001b[32m━━━━━━━━━━━━━━━━━━━━\u001b[0m\u001b[37m\u001b[0m \u001b[1m0s\u001b[0m 2ms/step - accuracy: 0.9520 - loss: 0.1056 - val_accuracy: 0.9886 - val_loss: 0.0360 - learning_rate: 5.0000e-04\n",
      "Epoch 21/100\n",
      "\u001b[1m145/151\u001b[0m \u001b[32m━━━━━━━━━━━━━━━━━━━\u001b[0m\u001b[37m━\u001b[0m \u001b[1m0s\u001b[0m 79ms/step - accuracy: 0.9552 - loss: 0.1489\n",
      "Epoch 21: val_loss did not improve from 0.03597\n",
      "\u001b[1m151/151\u001b[0m \u001b[32m━━━━━━━━━━━━━━━━━━━━\u001b[0m\u001b[37m\u001b[0m \u001b[1m12s\u001b[0m 78ms/step - accuracy: 0.9553 - loss: 0.1487 - val_accuracy: 0.9857 - val_loss: 0.0479 - learning_rate: 5.0000e-04\n",
      "Epoch 22/100\n",
      "\u001b[1m  1/151\u001b[0m \u001b[37m━━━━━━━━━━━━━━━━━━━━\u001b[0m \u001b[1m1s\u001b[0m 7ms/step - accuracy: 0.9720 - loss: 0.1155\n",
      "Epoch 22: val_loss did not improve from 0.03597\n",
      "\u001b[1m151/151\u001b[0m \u001b[32m━━━━━━━━━━━━━━━━━━━━\u001b[0m\u001b[37m\u001b[0m \u001b[1m0s\u001b[0m 1ms/step - accuracy: 0.9720 - loss: 0.1155 - val_accuracy: 0.9867 - val_loss: 0.0463 - learning_rate: 5.0000e-04\n",
      "Epoch 23/100\n",
      "\u001b[1m145/151\u001b[0m \u001b[32m━━━━━━━━━━━━━━━━━━━\u001b[0m\u001b[37m━\u001b[0m \u001b[1m0s\u001b[0m 78ms/step - accuracy: 0.9606 - loss: 0.1343\n",
      "Epoch 23: val_loss improved from 0.03597 to 0.03213, saving model to best_model.keras\n",
      "\u001b[1m151/151\u001b[0m \u001b[32m━━━━━━━━━━━━━━━━━━━━\u001b[0m\u001b[37m\u001b[0m \u001b[1m12s\u001b[0m 77ms/step - accuracy: 0.9606 - loss: 0.1343 - val_accuracy: 0.9893 - val_loss: 0.0321 - learning_rate: 5.0000e-04\n",
      "Epoch 24/100\n",
      "\u001b[1m  1/151\u001b[0m \u001b[37m━━━━━━━━━━━━━━━━━━━━\u001b[0m \u001b[1m1s\u001b[0m 7ms/step - accuracy: 0.9440 - loss: 0.1503\n",
      "Epoch 24: val_loss improved from 0.03213 to 0.03200, saving model to best_model.keras\n",
      "\u001b[1m151/151\u001b[0m \u001b[32m━━━━━━━━━━━━━━━━━━━━\u001b[0m\u001b[37m\u001b[0m \u001b[1m0s\u001b[0m 2ms/step - accuracy: 0.9440 - loss: 0.1503 - val_accuracy: 0.9895 - val_loss: 0.0320 - learning_rate: 5.0000e-04\n",
      "Epoch 25/100\n",
      "\u001b[1m145/151\u001b[0m \u001b[32m━━━━━━━━━━━━━━━━━━━\u001b[0m\u001b[37m━\u001b[0m \u001b[1m0s\u001b[0m 78ms/step - accuracy: 0.9605 - loss: 0.1302\n",
      "Epoch 25: val_loss did not improve from 0.03200\n",
      "\u001b[1m151/151\u001b[0m \u001b[32m━━━━━━━━━━━━━━━━━━━━\u001b[0m\u001b[37m\u001b[0m \u001b[1m12s\u001b[0m 77ms/step - accuracy: 0.9605 - loss: 0.1302 - val_accuracy: 0.9883 - val_loss: 0.0335 - learning_rate: 5.0000e-04\n",
      "Epoch 26/100\n",
      "\u001b[1m  1/151\u001b[0m \u001b[37m━━━━━━━━━━━━━━━━━━━━\u001b[0m \u001b[1m1s\u001b[0m 7ms/step - accuracy: 0.9880 - loss: 0.0431\n",
      "Epoch 26: val_loss did not improve from 0.03200\n",
      "\u001b[1m151/151\u001b[0m \u001b[32m━━━━━━━━━━━━━━━━━━━━\u001b[0m\u001b[37m\u001b[0m \u001b[1m0s\u001b[0m 1ms/step - accuracy: 0.9880 - loss: 0.0431 - val_accuracy: 0.9886 - val_loss: 0.0328 - learning_rate: 5.0000e-04\n",
      "Epoch 27/100\n",
      "\u001b[1m145/151\u001b[0m \u001b[32m━━━━━━━━━━━━━━━━━━━\u001b[0m\u001b[37m━\u001b[0m \u001b[1m0s\u001b[0m 79ms/step - accuracy: 0.9636 - loss: 0.1237\n",
      "Epoch 27: val_loss did not improve from 0.03200\n",
      "\u001b[1m151/151\u001b[0m \u001b[32m━━━━━━━━━━━━━━━━━━━━\u001b[0m\u001b[37m\u001b[0m \u001b[1m12s\u001b[0m 78ms/step - accuracy: 0.9636 - loss: 0.1238 - val_accuracy: 0.9898 - val_loss: 0.0335 - learning_rate: 5.0000e-04\n",
      "Epoch 28/100\n",
      "\u001b[1m  1/151\u001b[0m \u001b[37m━━━━━━━━━━━━━━━━━━━━\u001b[0m \u001b[1m1s\u001b[0m 7ms/step - accuracy: 0.9800 - loss: 0.0945\n",
      "Epoch 28: val_loss did not improve from 0.03200\n",
      "\u001b[1m151/151\u001b[0m \u001b[32m━━━━━━━━━━━━━━━━━━━━\u001b[0m\u001b[37m\u001b[0m \u001b[1m0s\u001b[0m 1ms/step - accuracy: 0.9800 - loss: 0.0945 - val_accuracy: 0.9895 - val_loss: 0.0331 - learning_rate: 5.0000e-04\n",
      "Epoch 29/100\n",
      "\u001b[1m145/151\u001b[0m \u001b[32m━━━━━━━━━━━━━━━━━━━\u001b[0m\u001b[37m━\u001b[0m \u001b[1m0s\u001b[0m 79ms/step - accuracy: 0.9618 - loss: 0.1253\n",
      "Epoch 29: val_loss did not improve from 0.03200\n",
      "\u001b[1m151/151\u001b[0m \u001b[32m━━━━━━━━━━━━━━━━━━━━\u001b[0m\u001b[37m\u001b[0m \u001b[1m12s\u001b[0m 77ms/step - accuracy: 0.9618 - loss: 0.1253 - val_accuracy: 0.9888 - val_loss: 0.0406 - learning_rate: 5.0000e-04\n",
      "Epoch 30/100\n",
      "\u001b[1m  1/151\u001b[0m \u001b[37m━━━━━━━━━━━━━━━━━━━━\u001b[0m \u001b[1m1s\u001b[0m 7ms/step - accuracy: 0.9760 - loss: 0.0833\n",
      "Epoch 30: val_loss did not improve from 0.03200\n",
      "\u001b[1m151/151\u001b[0m \u001b[32m━━━━━━━━━━━━━━━━━━━━\u001b[0m\u001b[37m\u001b[0m \u001b[1m0s\u001b[0m 1ms/step - accuracy: 0.9760 - loss: 0.0833 - val_accuracy: 0.9888 - val_loss: 0.0408 - learning_rate: 2.5000e-04\n",
      "Epoch 31/100\n",
      "\u001b[1m145/151\u001b[0m \u001b[32m━━━━━━━━━━━━━━━━━━━\u001b[0m\u001b[37m━\u001b[0m \u001b[1m0s\u001b[0m 81ms/step - accuracy: 0.9648 - loss: 0.1173\n",
      "Epoch 31: val_loss improved from 0.03200 to 0.02797, saving model to best_model.keras\n",
      "\u001b[1m151/151\u001b[0m \u001b[32m━━━━━━━━━━━━━━━━━━━━\u001b[0m\u001b[37m\u001b[0m \u001b[1m13s\u001b[0m 80ms/step - accuracy: 0.9649 - loss: 0.1170 - val_accuracy: 0.9912 - val_loss: 0.0280 - learning_rate: 2.5000e-04\n",
      "Epoch 32/100\n",
      "\u001b[1m  1/151\u001b[0m \u001b[37m━━━━━━━━━━━━━━━━━━━━\u001b[0m \u001b[1m1s\u001b[0m 7ms/step - accuracy: 0.9600 - loss: 0.1136\n",
      "Epoch 32: val_loss did not improve from 0.02797\n",
      "\u001b[1m151/151\u001b[0m \u001b[32m━━━━━━━━━━━━━━━━━━━━\u001b[0m\u001b[37m\u001b[0m \u001b[1m0s\u001b[0m 1ms/step - accuracy: 0.9600 - loss: 0.1136 - val_accuracy: 0.9912 - val_loss: 0.0281 - learning_rate: 2.5000e-04\n",
      "Epoch 33/100\n",
      "\u001b[1m145/151\u001b[0m \u001b[32m━━━━━━━━━━━━━━━━━━━\u001b[0m\u001b[37m━\u001b[0m \u001b[1m0s\u001b[0m 79ms/step - accuracy: 0.9661 - loss: 0.1116\n",
      "Epoch 33: val_loss did not improve from 0.02797\n",
      "\u001b[1m151/151\u001b[0m \u001b[32m━━━━━━━━━━━━━━━━━━━━\u001b[0m\u001b[37m\u001b[0m \u001b[1m12s\u001b[0m 77ms/step - accuracy: 0.9662 - loss: 0.1115 - val_accuracy: 0.9900 - val_loss: 0.0312 - learning_rate: 2.5000e-04\n",
      "Epoch 34/100\n",
      "\u001b[1m  1/151\u001b[0m \u001b[37m━━━━━━━━━━━━━━━━━━━━\u001b[0m \u001b[1m1s\u001b[0m 7ms/step - accuracy: 0.9400 - loss: 0.1509\n",
      "Epoch 34: val_loss did not improve from 0.02797\n",
      "\u001b[1m151/151\u001b[0m \u001b[32m━━━━━━━━━━━━━━━━━━━━\u001b[0m\u001b[37m\u001b[0m \u001b[1m0s\u001b[0m 1ms/step - accuracy: 0.9400 - loss: 0.1509 - val_accuracy: 0.9900 - val_loss: 0.0312 - learning_rate: 2.5000e-04\n",
      "Epoch 35/100\n",
      "\u001b[1m145/151\u001b[0m \u001b[32m━━━━━━━━━━━━━━━━━━━\u001b[0m\u001b[37m━\u001b[0m \u001b[1m0s\u001b[0m 79ms/step - accuracy: 0.9691 - loss: 0.1059\n",
      "Epoch 35: val_loss did not improve from 0.02797\n",
      "\u001b[1m151/151\u001b[0m \u001b[32m━━━━━━━━━━━━━━━━━━━━\u001b[0m\u001b[37m\u001b[0m \u001b[1m12s\u001b[0m 78ms/step - accuracy: 0.9690 - loss: 0.1059 - val_accuracy: 0.9912 - val_loss: 0.0288 - learning_rate: 2.5000e-04\n",
      "Epoch 36/100\n",
      "\u001b[1m  1/151\u001b[0m \u001b[37m━━━━━━━━━━━━━━━━━━━━\u001b[0m \u001b[1m1s\u001b[0m 7ms/step - accuracy: 0.9840 - loss: 0.0600\n",
      "Epoch 36: val_loss did not improve from 0.02797\n",
      "\u001b[1m151/151\u001b[0m \u001b[32m━━━━━━━━━━━━━━━━━━━━\u001b[0m\u001b[37m\u001b[0m \u001b[1m0s\u001b[0m 1ms/step - accuracy: 0.9840 - loss: 0.0600 - val_accuracy: 0.9912 - val_loss: 0.0288 - learning_rate: 2.5000e-04\n",
      "Epoch 37/100\n",
      "\u001b[1m145/151\u001b[0m \u001b[32m━━━━━━━━━━━━━━━━━━━\u001b[0m\u001b[37m━\u001b[0m \u001b[1m0s\u001b[0m 79ms/step - accuracy: 0.9678 - loss: 0.1108\n",
      "Epoch 37: val_loss improved from 0.02797 to 0.02653, saving model to best_model.keras\n",
      "\u001b[1m151/151\u001b[0m \u001b[32m━━━━━━━━━━━━━━━━━━━━\u001b[0m\u001b[37m\u001b[0m \u001b[1m12s\u001b[0m 78ms/step - accuracy: 0.9678 - loss: 0.1106 - val_accuracy: 0.9912 - val_loss: 0.0265 - learning_rate: 1.2500e-04\n",
      "Epoch 38/100\n",
      "\u001b[1m  1/151\u001b[0m \u001b[37m━━━━━━━━━━━━━━━━━━━━\u001b[0m \u001b[1m1s\u001b[0m 7ms/step - accuracy: 0.9720 - loss: 0.1063\n",
      "Epoch 38: val_loss did not improve from 0.02653\n",
      "\u001b[1m151/151\u001b[0m \u001b[32m━━━━━━━━━━━━━━━━━━━━\u001b[0m\u001b[37m\u001b[0m \u001b[1m0s\u001b[0m 1ms/step - accuracy: 0.9720 - loss: 0.1063 - val_accuracy: 0.9912 - val_loss: 0.0266 - learning_rate: 1.2500e-04\n",
      "Epoch 39/100\n",
      "\u001b[1m145/151\u001b[0m \u001b[32m━━━━━━━━━━━━━━━━━━━\u001b[0m\u001b[37m━\u001b[0m \u001b[1m0s\u001b[0m 78ms/step - accuracy: 0.9677 - loss: 0.1084\n",
      "Epoch 39: val_loss did not improve from 0.02653\n",
      "\u001b[1m151/151\u001b[0m \u001b[32m━━━━━━━━━━━━━━━━━━━━\u001b[0m\u001b[37m\u001b[0m \u001b[1m12s\u001b[0m 77ms/step - accuracy: 0.9678 - loss: 0.1083 - val_accuracy: 0.9912 - val_loss: 0.0289 - learning_rate: 1.2500e-04\n",
      "Epoch 40/100\n",
      "\u001b[1m  1/151\u001b[0m \u001b[37m━━━━━━━━━━━━━━━━━━━━\u001b[0m \u001b[1m1s\u001b[0m 7ms/step - accuracy: 0.9600 - loss: 0.1220\n",
      "Epoch 40: val_loss did not improve from 0.02653\n",
      "\u001b[1m151/151\u001b[0m \u001b[32m━━━━━━━━━━━━━━━━━━━━\u001b[0m\u001b[37m\u001b[0m \u001b[1m0s\u001b[0m 1ms/step - accuracy: 0.9600 - loss: 0.1220 - val_accuracy: 0.9912 - val_loss: 0.0287 - learning_rate: 1.2500e-04\n",
      "Epoch 41/100\n",
      "\u001b[1m145/151\u001b[0m \u001b[32m━━━━━━━━━━━━━━━━━━━\u001b[0m\u001b[37m━\u001b[0m \u001b[1m0s\u001b[0m 80ms/step - accuracy: 0.9677 - loss: 0.1066\n",
      "Epoch 41: val_loss did not improve from 0.02653\n",
      "\u001b[1m151/151\u001b[0m \u001b[32m━━━━━━━━━━━━━━━━━━━━\u001b[0m\u001b[37m\u001b[0m \u001b[1m12s\u001b[0m 78ms/step - accuracy: 0.9678 - loss: 0.1066 - val_accuracy: 0.9912 - val_loss: 0.0284 - learning_rate: 1.2500e-04\n",
      "Epoch 42/100\n",
      "\u001b[1m  1/151\u001b[0m \u001b[37m━━━━━━━━━━━━━━━━━━━━\u001b[0m \u001b[1m1s\u001b[0m 7ms/step - accuracy: 0.9720 - loss: 0.0730\n",
      "Epoch 42: val_loss did not improve from 0.02653\n",
      "\u001b[1m151/151\u001b[0m \u001b[32m━━━━━━━━━━━━━━━━━━━━\u001b[0m\u001b[37m\u001b[0m \u001b[1m0s\u001b[0m 1ms/step - accuracy: 0.9720 - loss: 0.0730 - val_accuracy: 0.9912 - val_loss: 0.0283 - learning_rate: 1.2500e-04\n",
      "Epoch 43/100\n",
      "\u001b[1m145/151\u001b[0m \u001b[32m━━━━━━━━━━━━━━━━━━━\u001b[0m\u001b[37m━\u001b[0m \u001b[1m0s\u001b[0m 79ms/step - accuracy: 0.9708 - loss: 0.0986\n",
      "Epoch 43: val_loss improved from 0.02653 to 0.02598, saving model to best_model.keras\n",
      "\u001b[1m151/151\u001b[0m \u001b[32m━━━━━━━━━━━━━━━━━━━━\u001b[0m\u001b[37m\u001b[0m \u001b[1m12s\u001b[0m 78ms/step - accuracy: 0.9708 - loss: 0.0987 - val_accuracy: 0.9914 - val_loss: 0.0260 - learning_rate: 6.2500e-05\n",
      "Epoch 44/100\n",
      "\u001b[1m  1/151\u001b[0m \u001b[37m━━━━━━━━━━━━━━━━━━━━\u001b[0m \u001b[1m1s\u001b[0m 8ms/step - accuracy: 0.9560 - loss: 0.1428\n",
      "Epoch 44: val_loss did not improve from 0.02598\n",
      "\u001b[1m151/151\u001b[0m \u001b[32m━━━━━━━━━━━━━━━━━━━━\u001b[0m\u001b[37m\u001b[0m \u001b[1m0s\u001b[0m 1ms/step - accuracy: 0.9560 - loss: 0.1428 - val_accuracy: 0.9914 - val_loss: 0.0260 - learning_rate: 6.2500e-05\n",
      "Epoch 45/100\n",
      "\u001b[1m145/151\u001b[0m \u001b[32m━━━━━━━━━━━━━━━━━━━\u001b[0m\u001b[37m━\u001b[0m \u001b[1m0s\u001b[0m 78ms/step - accuracy: 0.9709 - loss: 0.0999\n",
      "Epoch 45: val_loss did not improve from 0.02598\n",
      "\u001b[1m151/151\u001b[0m \u001b[32m━━━━━━━━━━━━━━━━━━━━\u001b[0m\u001b[37m\u001b[0m \u001b[1m12s\u001b[0m 77ms/step - accuracy: 0.9708 - loss: 0.1000 - val_accuracy: 0.9917 - val_loss: 0.0277 - learning_rate: 6.2500e-05\n",
      "Epoch 46/100\n",
      "\u001b[1m  1/151\u001b[0m \u001b[37m━━━━━━━━━━━━━━━━━━━━\u001b[0m \u001b[1m1s\u001b[0m 7ms/step - accuracy: 0.9640 - loss: 0.1023\n",
      "Epoch 46: val_loss did not improve from 0.02598\n",
      "\u001b[1m151/151\u001b[0m \u001b[32m━━━━━━━━━━━━━━━━━━━━\u001b[0m\u001b[37m\u001b[0m \u001b[1m0s\u001b[0m 1ms/step - accuracy: 0.9640 - loss: 0.1023 - val_accuracy: 0.9917 - val_loss: 0.0279 - learning_rate: 6.2500e-05\n",
      "Epoch 47/100\n",
      "\u001b[1m145/151\u001b[0m \u001b[32m━━━━━━━━━━━━━━━━━━━\u001b[0m\u001b[37m━\u001b[0m \u001b[1m0s\u001b[0m 80ms/step - accuracy: 0.9683 - loss: 0.1044\n",
      "Epoch 47: val_loss did not improve from 0.02598\n",
      "\u001b[1m151/151\u001b[0m \u001b[32m━━━━━━━━━━━━━━━━━━━━\u001b[0m\u001b[37m\u001b[0m \u001b[1m12s\u001b[0m 78ms/step - accuracy: 0.9683 - loss: 0.1042 - val_accuracy: 0.9919 - val_loss: 0.0264 - learning_rate: 6.2500e-05\n",
      "Epoch 48/100\n",
      "\u001b[1m  1/151\u001b[0m \u001b[37m━━━━━━━━━━━━━━━━━━━━\u001b[0m \u001b[1m1s\u001b[0m 7ms/step - accuracy: 0.9800 - loss: 0.0685\n",
      "Epoch 48: val_loss did not improve from 0.02598\n",
      "\u001b[1m151/151\u001b[0m \u001b[32m━━━━━━━━━━━━━━━━━━━━\u001b[0m\u001b[37m\u001b[0m \u001b[1m0s\u001b[0m 1ms/step - accuracy: 0.9800 - loss: 0.0685 - val_accuracy: 0.9917 - val_loss: 0.0264 - learning_rate: 6.2500e-05\n",
      "Epoch 49/100\n",
      "\u001b[1m145/151\u001b[0m \u001b[32m━━━━━━━━━━━━━━━━━━━\u001b[0m\u001b[37m━\u001b[0m \u001b[1m0s\u001b[0m 79ms/step - accuracy: 0.9700 - loss: 0.1014\n",
      "Epoch 49: val_loss improved from 0.02598 to 0.02511, saving model to best_model.keras\n",
      "\u001b[1m151/151\u001b[0m \u001b[32m━━━━━━━━━━━━━━━━━━━━\u001b[0m\u001b[37m\u001b[0m \u001b[1m12s\u001b[0m 78ms/step - accuracy: 0.9700 - loss: 0.1014 - val_accuracy: 0.9921 - val_loss: 0.0251 - learning_rate: 3.1250e-05\n",
      "Epoch 50/100\n",
      "\u001b[1m  1/151\u001b[0m \u001b[37m━━━━━━━━━━━━━━━━━━━━\u001b[0m \u001b[1m1s\u001b[0m 8ms/step - accuracy: 0.9680 - loss: 0.1331\n",
      "Epoch 50: val_loss improved from 0.02511 to 0.02511, saving model to best_model.keras\n",
      "\u001b[1m151/151\u001b[0m \u001b[32m━━━━━━━━━━━━━━━━━━━━\u001b[0m\u001b[37m\u001b[0m \u001b[1m0s\u001b[0m 2ms/step - accuracy: 0.9680 - loss: 0.1331 - val_accuracy: 0.9921 - val_loss: 0.0251 - learning_rate: 3.1250e-05\n",
      "Epoch 51/100\n",
      "\u001b[1m145/151\u001b[0m \u001b[32m━━━━━━━━━━━━━━━━━━━\u001b[0m\u001b[37m━\u001b[0m \u001b[1m0s\u001b[0m 80ms/step - accuracy: 0.9722 - loss: 0.0945\n",
      "Epoch 51: val_loss did not improve from 0.02511\n",
      "\u001b[1m151/151\u001b[0m \u001b[32m━━━━━━━━━━━━━━━━━━━━\u001b[0m\u001b[37m\u001b[0m \u001b[1m12s\u001b[0m 79ms/step - accuracy: 0.9721 - loss: 0.0946 - val_accuracy: 0.9917 - val_loss: 0.0260 - learning_rate: 3.1250e-05\n",
      "Epoch 52/100\n",
      "\u001b[1m  1/151\u001b[0m \u001b[37m━━━━━━━━━━━━━━━━━━━━\u001b[0m \u001b[1m1s\u001b[0m 7ms/step - accuracy: 0.9840 - loss: 0.0681\n",
      "Epoch 52: val_loss did not improve from 0.02511\n",
      "\u001b[1m151/151\u001b[0m \u001b[32m━━━━━━━━━━━━━━━━━━━━\u001b[0m\u001b[37m\u001b[0m \u001b[1m0s\u001b[0m 1ms/step - accuracy: 0.9840 - loss: 0.0681 - val_accuracy: 0.9917 - val_loss: 0.0259 - learning_rate: 3.1250e-05\n",
      "Epoch 53/100\n",
      "\u001b[1m145/151\u001b[0m \u001b[32m━━━━━━━━━━━━━━━━━━━\u001b[0m\u001b[37m━\u001b[0m \u001b[1m0s\u001b[0m 79ms/step - accuracy: 0.9713 - loss: 0.0962\n",
      "Epoch 53: val_loss did not improve from 0.02511\n",
      "\u001b[1m151/151\u001b[0m \u001b[32m━━━━━━━━━━━━━━━━━━━━\u001b[0m\u001b[37m\u001b[0m \u001b[1m12s\u001b[0m 77ms/step - accuracy: 0.9713 - loss: 0.0963 - val_accuracy: 0.9921 - val_loss: 0.0253 - learning_rate: 3.1250e-05\n",
      "Epoch 54/100\n",
      "\u001b[1m  1/151\u001b[0m \u001b[37m━━━━━━━━━━━━━━━━━━━━\u001b[0m \u001b[1m1s\u001b[0m 7ms/step - accuracy: 0.9720 - loss: 0.0911\n",
      "Epoch 54: val_loss did not improve from 0.02511\n",
      "\u001b[1m151/151\u001b[0m \u001b[32m━━━━━━━━━━━━━━━━━━━━\u001b[0m\u001b[37m\u001b[0m \u001b[1m0s\u001b[0m 1ms/step - accuracy: 0.9720 - loss: 0.0911 - val_accuracy: 0.9921 - val_loss: 0.0254 - learning_rate: 3.1250e-05\n",
      "Epoch 55/100\n",
      "\u001b[1m145/151\u001b[0m \u001b[32m━━━━━━━━━━━━━━━━━━━\u001b[0m\u001b[37m━\u001b[0m \u001b[1m0s\u001b[0m 79ms/step - accuracy: 0.9712 - loss: 0.0952\n",
      "Epoch 55: val_loss did not improve from 0.02511\n",
      "\u001b[1m151/151\u001b[0m \u001b[32m━━━━━━━━━━━━━━━━━━━━\u001b[0m\u001b[37m\u001b[0m \u001b[1m12s\u001b[0m 78ms/step - accuracy: 0.9712 - loss: 0.0952 - val_accuracy: 0.9921 - val_loss: 0.0254 - learning_rate: 1.5625e-05\n",
      "Epoch 56/100\n",
      "\u001b[1m  1/151\u001b[0m \u001b[37m━━━━━━━━━━━━━━━━━━━━\u001b[0m \u001b[1m1s\u001b[0m 7ms/step - accuracy: 0.9680 - loss: 0.1019\n",
      "Epoch 56: val_loss did not improve from 0.02511\n",
      "\u001b[1m151/151\u001b[0m \u001b[32m━━━━━━━━━━━━━━━━━━━━\u001b[0m\u001b[37m\u001b[0m \u001b[1m0s\u001b[0m 1ms/step - accuracy: 0.9680 - loss: 0.1019 - val_accuracy: 0.9921 - val_loss: 0.0254 - learning_rate: 1.5625e-05\n",
      "Epoch 57/100\n",
      "\u001b[1m145/151\u001b[0m \u001b[32m━━━━━━━━━━━━━━━━━━━\u001b[0m\u001b[37m━\u001b[0m \u001b[1m0s\u001b[0m 79ms/step - accuracy: 0.9720 - loss: 0.0920\n",
      "Epoch 57: val_loss did not improve from 0.02511\n",
      "\u001b[1m151/151\u001b[0m \u001b[32m━━━━━━━━━━━━━━━━━━━━\u001b[0m\u001b[37m\u001b[0m \u001b[1m12s\u001b[0m 77ms/step - accuracy: 0.9720 - loss: 0.0923 - val_accuracy: 0.9921 - val_loss: 0.0253 - learning_rate: 1.5625e-05\n",
      "Epoch 58/100\n",
      "\u001b[1m  1/151\u001b[0m \u001b[37m━━━━━━━━━━━━━━━━━━━━\u001b[0m \u001b[1m1s\u001b[0m 7ms/step - accuracy: 0.9840 - loss: 0.0522\n",
      "Epoch 58: val_loss did not improve from 0.02511\n",
      "\u001b[1m151/151\u001b[0m \u001b[32m━━━━━━━━━━━━━━━━━━━━\u001b[0m\u001b[37m\u001b[0m \u001b[1m0s\u001b[0m 1ms/step - accuracy: 0.9840 - loss: 0.0522 - val_accuracy: 0.9921 - val_loss: 0.0254 - learning_rate: 1.5625e-05\n",
      "Epoch 59/100\n",
      "\u001b[1m145/151\u001b[0m \u001b[32m━━━━━━━━━━━━━━━━━━━\u001b[0m\u001b[37m━\u001b[0m \u001b[1m0s\u001b[0m 78ms/step - accuracy: 0.9719 - loss: 0.0941\n",
      "Epoch 59: val_loss improved from 0.02511 to 0.02494, saving model to best_model.keras\n",
      "\u001b[1m151/151\u001b[0m \u001b[32m━━━━━━━━━━━━━━━━━━━━\u001b[0m\u001b[37m\u001b[0m \u001b[1m12s\u001b[0m 77ms/step - accuracy: 0.9719 - loss: 0.0942 - val_accuracy: 0.9921 - val_loss: 0.0249 - learning_rate: 1.5625e-05\n",
      "Epoch 60/100\n",
      "\u001b[1m  1/151\u001b[0m \u001b[37m━━━━━━━━━━━━━━━━━━━━\u001b[0m \u001b[1m1s\u001b[0m 8ms/step - accuracy: 0.9840 - loss: 0.0468\n",
      "Epoch 60: val_loss improved from 0.02494 to 0.02493, saving model to best_model.keras\n",
      "\u001b[1m151/151\u001b[0m \u001b[32m━━━━━━━━━━━━━━━━━━━━\u001b[0m\u001b[37m\u001b[0m \u001b[1m0s\u001b[0m 2ms/step - accuracy: 0.9840 - loss: 0.0468 - val_accuracy: 0.9921 - val_loss: 0.0249 - learning_rate: 1.5625e-05\n",
      "Epoch 61/100\n",
      "\u001b[1m145/151\u001b[0m \u001b[32m━━━━━━━━━━━━━━━━━━━\u001b[0m\u001b[37m━\u001b[0m \u001b[1m0s\u001b[0m 79ms/step - accuracy: 0.9708 - loss: 0.0981\n",
      "Epoch 61: val_loss did not improve from 0.02493\n",
      "\u001b[1m151/151\u001b[0m \u001b[32m━━━━━━━━━━━━━━━━━━━━\u001b[0m\u001b[37m\u001b[0m \u001b[1m12s\u001b[0m 78ms/step - accuracy: 0.9709 - loss: 0.0980 - val_accuracy: 0.9919 - val_loss: 0.0253 - learning_rate: 1.5625e-05\n",
      "Epoch 62/100\n",
      "\u001b[1m  1/151\u001b[0m \u001b[37m━━━━━━━━━━━━━━━━━━━━\u001b[0m \u001b[1m1s\u001b[0m 8ms/step - accuracy: 0.9840 - loss: 0.0637\n",
      "Epoch 62: val_loss did not improve from 0.02493\n",
      "\u001b[1m151/151\u001b[0m \u001b[32m━━━━━━━━━━━━━━━━━━━━\u001b[0m\u001b[37m\u001b[0m \u001b[1m0s\u001b[0m 1ms/step - accuracy: 0.9840 - loss: 0.0637 - val_accuracy: 0.9917 - val_loss: 0.0253 - learning_rate: 1.5625e-05\n",
      "Epoch 63/100\n",
      "\u001b[1m145/151\u001b[0m \u001b[32m━━━━━━━━━━━━━━━━━━━\u001b[0m\u001b[37m━\u001b[0m \u001b[1m0s\u001b[0m 79ms/step - accuracy: 0.9711 - loss: 0.0983\n",
      "Epoch 63: val_loss did not improve from 0.02493\n",
      "\u001b[1m151/151\u001b[0m \u001b[32m━━━━━━━━━━━━━━━━━━━━\u001b[0m\u001b[37m\u001b[0m \u001b[1m12s\u001b[0m 77ms/step - accuracy: 0.9711 - loss: 0.0982 - val_accuracy: 0.9919 - val_loss: 0.0252 - learning_rate: 1.5625e-05\n",
      "Epoch 64/100\n",
      "\u001b[1m  1/151\u001b[0m \u001b[37m━━━━━━━━━━━━━━━━━━━━\u001b[0m \u001b[1m1s\u001b[0m 7ms/step - accuracy: 0.9800 - loss: 0.0625\n",
      "Epoch 64: val_loss did not improve from 0.02493\n",
      "\u001b[1m151/151\u001b[0m \u001b[32m━━━━━━━━━━━━━━━━━━━━\u001b[0m\u001b[37m\u001b[0m \u001b[1m0s\u001b[0m 1ms/step - accuracy: 0.9800 - loss: 0.0625 - val_accuracy: 0.9919 - val_loss: 0.0252 - learning_rate: 1.5625e-05\n",
      "Epoch 65/100\n",
      "\u001b[1m145/151\u001b[0m \u001b[32m━━━━━━━━━━━━━━━━━━━\u001b[0m\u001b[37m━\u001b[0m \u001b[1m0s\u001b[0m 78ms/step - accuracy: 0.9724 - loss: 0.1000\n",
      "Epoch 65: val_loss did not improve from 0.02493\n",
      "\u001b[1m151/151\u001b[0m \u001b[32m━━━━━━━━━━━━━━━━━━━━\u001b[0m\u001b[37m\u001b[0m \u001b[1m12s\u001b[0m 77ms/step - accuracy: 0.9724 - loss: 0.0999 - val_accuracy: 0.9919 - val_loss: 0.0254 - learning_rate: 1.0000e-05\n",
      "Epoch 66/100\n",
      "\u001b[1m  1/151\u001b[0m \u001b[37m━━━━━━━━━━━━━━━━━━━━\u001b[0m \u001b[1m1s\u001b[0m 7ms/step - accuracy: 0.9560 - loss: 0.1427\n",
      "Epoch 66: val_loss did not improve from 0.02493\n",
      "\u001b[1m151/151\u001b[0m \u001b[32m━━━━━━━━━━━━━━━━━━━━\u001b[0m\u001b[37m\u001b[0m \u001b[1m0s\u001b[0m 1ms/step - accuracy: 0.9560 - loss: 0.1427 - val_accuracy: 0.9919 - val_loss: 0.0254 - learning_rate: 1.0000e-05\n",
      "Epoch 67/100\n",
      "\u001b[1m145/151\u001b[0m \u001b[32m━━━━━━━━━━━━━━━━━━━\u001b[0m\u001b[37m━\u001b[0m \u001b[1m0s\u001b[0m 79ms/step - accuracy: 0.9711 - loss: 0.0950\n",
      "Epoch 67: val_loss did not improve from 0.02493\n",
      "\u001b[1m151/151\u001b[0m \u001b[32m━━━━━━━━━━━━━━━━━━━━\u001b[0m\u001b[37m\u001b[0m \u001b[1m12s\u001b[0m 78ms/step - accuracy: 0.9711 - loss: 0.0949 - val_accuracy: 0.9917 - val_loss: 0.0252 - learning_rate: 1.0000e-05\n",
      "Epoch 68/100\n",
      "\u001b[1m  1/151\u001b[0m \u001b[37m━━━━━━━━━━━━━━━━━━━━\u001b[0m \u001b[1m1s\u001b[0m 7ms/step - accuracy: 0.9880 - loss: 0.0543\n",
      "Epoch 68: val_loss did not improve from 0.02493\n",
      "\u001b[1m151/151\u001b[0m \u001b[32m━━━━━━━━━━━━━━━━━━━━\u001b[0m\u001b[37m\u001b[0m \u001b[1m0s\u001b[0m 1ms/step - accuracy: 0.9880 - loss: 0.0543 - val_accuracy: 0.9917 - val_loss: 0.0252 - learning_rate: 1.0000e-05\n",
      "Epoch 69/100\n",
      "\u001b[1m145/151\u001b[0m \u001b[32m━━━━━━━━━━━━━━━━━━━\u001b[0m\u001b[37m━\u001b[0m \u001b[1m0s\u001b[0m 81ms/step - accuracy: 0.9706 - loss: 0.0961\n",
      "Epoch 69: val_loss did not improve from 0.02493\n",
      "\u001b[1m151/151\u001b[0m \u001b[32m━━━━━━━━━━━━━━━━━━━━\u001b[0m\u001b[37m\u001b[0m \u001b[1m13s\u001b[0m 80ms/step - accuracy: 0.9706 - loss: 0.0960 - val_accuracy: 0.9919 - val_loss: 0.0254 - learning_rate: 1.0000e-05\n",
      "Epoch 70/100\n",
      "\u001b[1m  1/151\u001b[0m \u001b[37m━━━━━━━━━━━━━━━━━━━━\u001b[0m \u001b[1m1s\u001b[0m 7ms/step - accuracy: 0.9600 - loss: 0.1077\n",
      "Epoch 70: val_loss did not improve from 0.02493\n",
      "\u001b[1m151/151\u001b[0m \u001b[32m━━━━━━━━━━━━━━━━━━━━\u001b[0m\u001b[37m\u001b[0m \u001b[1m0s\u001b[0m 1ms/step - accuracy: 0.9600 - loss: 0.1077 - val_accuracy: 0.9919 - val_loss: 0.0254 - learning_rate: 1.0000e-05\n"
     ]
    }
   ],
   "source": [
    "# Define callbacks\n",
    "early_stopping = EarlyStopping(monitor='val_loss', patience=10, restore_best_weights=True)\n",
    "reduce_lr = ReduceLROnPlateau(monitor='val_loss', factor=0.5, patience=5, min_lr=0.00001)\n",
    "\n",
    "# Save the best model based on validation loss\n",
    "checkpoint = ModelCheckpoint('best_model.keras', monitor='val_loss', save_best_only=True, verbose=1)\n",
    "\n",
    "# Fit the model\n",
    "history = model.fit(\n",
    "    datagen.flow(X_train, y_train, batch_size=batch_size),\n",
    "    epochs=epochs,\n",
    "    validation_data=(X_val, y_val),\n",
    "    steps_per_epoch=X_train.shape[0] // batch_size,\n",
    "    callbacks=[early_stopping, reduce_lr, checkpoint]\n",
    ")"
   ]
  },
  {
   "cell_type": "markdown",
   "id": "47803cbe",
   "metadata": {
    "papermill": {
     "duration": 0.436019,
     "end_time": "2024-09-13T23:08:15.922844",
     "exception": false,
     "start_time": "2024-09-13T23:08:15.486825",
     "status": "completed"
    },
    "tags": []
   },
   "source": [
    "## Evaluate the model\n"
   ]
  },
  {
   "cell_type": "code",
   "execution_count": 18,
   "id": "51f41fba",
   "metadata": {
    "execution": {
     "iopub.execute_input": "2024-09-13T23:08:16.832194Z",
     "iopub.status.busy": "2024-09-13T23:08:16.831830Z",
     "iopub.status.idle": "2024-09-13T23:08:17.515923Z",
     "shell.execute_reply": "2024-09-13T23:08:17.514930Z"
    },
    "papermill": {
     "duration": 1.117125,
     "end_time": "2024-09-13T23:08:17.518520",
     "exception": false,
     "start_time": "2024-09-13T23:08:16.401395",
     "status": "completed"
    },
    "tags": []
   },
   "outputs": [
    {
     "data": {
      "image/png": "[encoded data removed]",
      "text/plain": [
       "<Figure size 1200x700 with 2 Axes>"
      ]
     },
     "metadata": {},
     "output_type": "display_data"
    }
   ],
   "source": [
    "plt.figure(figsize=(12,7))\n",
    "plt.suptitle(\"Training and Validation loss and Accuracy by each epoch\",fontsize=17)\n",
    "plt.subplot(1,2,1)\n",
    "plt.plot(history.history['val_loss'], color='b', label=\"validation loss\")\n",
    "plt.plot(history.history['loss'], color='r', label=\"Training loss\")\n",
    "\n",
    "plt.title(\"Test Loss\")\n",
    "plt.xlabel(\"Number of Epochs\")\n",
    "plt.ylabel(\"Loss\")\n",
    "plt.legend()\n",
    "\n",
    "plt.subplot(1,2,2)\n",
    "plt.plot(history.history['val_accuracy'], color='b', label=\"validation accuracy\")\n",
    "plt.plot(history.history['accuracy'], color='r', label=\"Training accuracy\")\n",
    "\n",
    "plt.title(\"Test Accuracy\")\n",
    "plt.xlabel(\"Number of Epochs\")\n",
    "plt.ylabel(\"Accuracy\")\n",
    "plt.legend()\n",
    "\n",
    "plt.tight_layout()\n",
    "plt.show()"
   ]
  },
  {
   "cell_type": "code",
   "execution_count": 19,
   "id": "7a8577d3",
   "metadata": {
    "execution": {
     "iopub.execute_input": "2024-09-13T23:08:18.400423Z",
     "iopub.status.busy": "2024-09-13T23:08:18.399565Z",
     "iopub.status.idle": "2024-09-13T23:08:18.768602Z",
     "shell.execute_reply": "2024-09-13T23:08:18.767574Z"
    },
    "papermill": {
     "duration": 0.808822,
     "end_time": "2024-09-13T23:08:18.771072",
     "exception": false,
     "start_time": "2024-09-13T23:08:17.962250",
     "status": "completed"
    },
    "tags": []
   },
   "outputs": [],
   "source": [
    "from tensorflow.keras.models import load_model\n",
    "\n",
    "model = load_model('/kaggle/working/best_model.keras')"
   ]
  },
  {
   "cell_type": "code",
   "execution_count": 20,
   "id": "d35c75f4",
   "metadata": {
    "execution": {
     "iopub.execute_input": "2024-09-13T23:08:19.638037Z",
     "iopub.status.busy": "2024-09-13T23:08:19.637422Z",
     "iopub.status.idle": "2024-09-13T23:08:21.881768Z",
     "shell.execute_reply": "2024-09-13T23:08:21.880893Z"
    },
    "papermill": {
     "duration": 2.679576,
     "end_time": "2024-09-13T23:08:21.884127",
     "exception": false,
     "start_time": "2024-09-13T23:08:19.204551",
     "status": "completed"
    },
    "tags": []
   },
   "outputs": [
    {
     "name": "stdout",
     "output_type": "stream",
     "text": [
      "\u001b[1m875/875\u001b[0m \u001b[32m━━━━━━━━━━━━━━━━━━━━\u001b[0m\u001b[37m\u001b[0m \u001b[1m1s\u001b[0m 1ms/step\n"
     ]
    }
   ],
   "source": [
    "prediction = model.predict(test)\n",
    "predicted_label = np.argmax(prediction, axis=1)"
   ]
  },
  {
   "cell_type": "code",
   "execution_count": 21,
   "id": "198651e3",
   "metadata": {
    "execution": {
     "iopub.execute_input": "2024-09-13T23:08:22.814805Z",
     "iopub.status.busy": "2024-09-13T23:08:22.814427Z",
     "iopub.status.idle": "2024-09-13T23:08:22.855092Z",
     "shell.execute_reply": "2024-09-13T23:08:22.854154Z"
    },
    "papermill": {
     "duration": 0.483627,
     "end_time": "2024-09-13T23:08:22.857165",
     "exception": false,
     "start_time": "2024-09-13T23:08:22.373538",
     "status": "completed"
    },
    "tags": []
   },
   "outputs": [
    {
     "name": "stdout",
     "output_type": "stream",
     "text": [
      "Submission file created successfully!\n"
     ]
    }
   ],
   "source": [
    "submission = pd.DataFrame({\n",
    "    'ImageId': np.arange(1, len(predicted_label) + 1),\n",
    "    'Label': predicted_label\n",
    "})\n",
    "\n",
    "submission.to_csv('submission.csv', index=False)\n",
    "\n",
    "print(\"Submission file created successfully!\")"
   ]
  }
 ],
 "metadata": {
  "kaggle": {
   "accelerator": "gpu",
   "dataSources": [
    {
     "databundleVersionId": 861823,
     "sourceId": 3004,
     "sourceType": "competition"
    }
   ],
   "dockerImageVersionId": 30761,
   "isGpuEnabled": true,
   "isInternetEnabled": true,
   "language": "python",
   "sourceType": "notebook"
  },
  "kernelspec": {
   "display_name": "Python 3",
   "language": "python",
   "name": "python3"
  },
  "language_info": {
   "codemirror_mode": {
    "name": "ipython",
    "version": 3
   },
   "file_extension": ".py",
   "mimetype": "text/x-python",
   "name": "python",
   "nbconvert_exporter": "python",
   "pygments_lexer": "ipython3",
   "version": "3.10.14"
  },
  "papermill": {
   "default_parameters": {},
   "duration": 492.935735,
   "end_time": "2024-09-13T23:08:25.765034",
   "environment_variables": {},
   "exception": null,
   "input_path": "__notebook__.ipynb",
   "output_path": "__notebook__.ipynb",
   "parameters": {},
   "start_time": "2024-09-13T23:00:12.829299",
   "version": "2.6.0"
  }
 },
 "nbformat": 4,
 "nbformat_minor": 5
}
